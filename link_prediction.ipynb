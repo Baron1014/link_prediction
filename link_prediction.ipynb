{
 "cells": [
  {
   "cell_type": "code",
   "execution_count": 54,
   "id": "8cd7916a-9d78-413e-9812-d491538dba0b",
   "metadata": {},
   "outputs": [
    {
     "name": "stdout",
     "output_type": "stream",
     "text": [
      "PyTorch has version 1.10.2+cu102\n"
     ]
    }
   ],
   "source": [
    "import pandas as pd\n",
    "import os\n",
    "import math\n",
    "import numpy as np\n",
    "from sklearn.model_selection import train_test_split\n",
    "# Import the NetworkX package\n",
    "import networkx as nx\n",
    "import torch\n",
    "print(\"PyTorch has version {}\".format(torch.__version__))\n",
    "os.environ['CUDA_LAUNCH_BLOCKING'] = '1'"
   ]
  },
  {
   "cell_type": "code",
   "execution_count": 2,
   "id": "bf2ccca7-b86a-4b7b-b391-1cf722eb3f4f",
   "metadata": {},
   "outputs": [],
   "source": [
    "train_csv = pd.read_csv(\"../../data/SocialNetowrk/hw2_data/dataset1/train.csv\")\n",
    "test_csv = pd.read_csv(\"../../data/SocialNetowrk/hw2_data/dataset1/test.csv\")\n",
    "upload_csv = pd.read_csv(\"../../data/SocialNetowrk/hw2_data/dataset1/upload.csv\")\n",
    "content_csv = pd.read_csv(\"../../data/SocialNetowrk/hw2_data/dataset1/content.csv\", header=None)"
   ]
  },
  {
   "cell_type": "code",
   "execution_count": 3,
   "id": "e85d4f63-d64d-4f9f-bc83-d3138c9d7ea7",
   "metadata": {},
   "outputs": [
    {
     "name": "stdout",
     "output_type": "stream",
     "text": [
      "training data: 8686\n",
      "       id    to  from  label\n",
      "0  E10311  2399  2339      0\n",
      "1  E10255  2397  1144      1\n",
      "2  E10667   854  1726      0\n",
      "3   E9395   872   702      0\n",
      "4   E5926  2450  1312      1\n",
      "testing data: 2172\n",
      "       id    to  from\n",
      "0  E10559  2323  2673\n",
      "1   E4849    81  1634\n",
      "2   E3964  2405  1765\n",
      "3    E542  2114   498\n",
      "4    E331  1013   849\n",
      "upload data: 2172\n",
      "       id  prob\n",
      "0  E10559   0.5\n",
      "1   E4849   0.5\n",
      "2   E3964   0.5\n",
      "3    E542   0.5\n",
      "4    E331   0.5\n",
      "content data: 2708\n"
     ]
    }
   ],
   "source": [
    "print(\"training data:\", len(train_csv))\n",
    "print(train_csv.head())\n",
    "print(\"testing data:\", len(test_csv))\n",
    "print(test_csv.head())\n",
    "print(\"upload data:\", len(upload_csv))\n",
    "print(upload_csv.head())\n",
    "print(\"content data:\", len(content_csv))"
   ]
  },
  {
   "cell_type": "markdown",
   "id": "772df38b-10e3-4d6c-a673-bf0fbf7664d5",
   "metadata": {},
   "source": [
    "## Create Graph\n",
    "1. 如果沒有邊的話要如何放進graph裡做特徵計算呢？"
   ]
  },
  {
   "cell_type": "code",
   "execution_count": 4,
   "id": "cd21a678-c83e-44ea-bb69-7f16685fa36c",
   "metadata": {},
   "outputs": [
    {
     "data": {
      "text/html": [
       "<div>\n",
       "<style scoped>\n",
       "    .dataframe tbody tr th:only-of-type {\n",
       "        vertical-align: middle;\n",
       "    }\n",
       "\n",
       "    .dataframe tbody tr th {\n",
       "        vertical-align: top;\n",
       "    }\n",
       "\n",
       "    .dataframe thead th {\n",
       "        text-align: right;\n",
       "    }\n",
       "</style>\n",
       "<table border=\"1\" class=\"dataframe\">\n",
       "  <thead>\n",
       "    <tr style=\"text-align: right;\">\n",
       "      <th></th>\n",
       "      <th>id</th>\n",
       "      <th>to</th>\n",
       "      <th>from</th>\n",
       "      <th>label</th>\n",
       "    </tr>\n",
       "  </thead>\n",
       "  <tbody>\n",
       "    <tr>\n",
       "      <th>24</th>\n",
       "      <td>E9183</td>\n",
       "      <td>816</td>\n",
       "      <td>1769</td>\n",
       "      <td>0</td>\n",
       "    </tr>\n",
       "    <tr>\n",
       "      <th>3942</th>\n",
       "      <td>E5420</td>\n",
       "      <td>816</td>\n",
       "      <td>2461</td>\n",
       "      <td>0</td>\n",
       "    </tr>\n",
       "  </tbody>\n",
       "</table>\n",
       "</div>"
      ],
      "text/plain": [
       "         id   to  from  label\n",
       "24    E9183  816  1769      0\n",
       "3942  E5420  816  2461      0"
      ]
     },
     "execution_count": 4,
     "metadata": {},
     "output_type": "execute_result"
    }
   ],
   "source": [
    "train_csv[train_csv['to'] ==816]"
   ]
  },
  {
   "cell_type": "code",
   "execution_count": 5,
   "id": "2c4042c4-0472-417a-9cd8-2e353fa985a7",
   "metadata": {},
   "outputs": [
    {
     "data": {
      "text/plain": [
       "(2399, 2339)"
      ]
     },
     "execution_count": 5,
     "metadata": {},
     "output_type": "execute_result"
    }
   ],
   "source": [
    "train_csv['node_pair'] = train_csv[['to', 'from']].apply(tuple, axis=1)\n",
    "train_csv['node_pair'].values[0]"
   ]
  },
  {
   "cell_type": "code",
   "execution_count": 6,
   "id": "de2d7c13-140c-43dd-ae2c-a43994b596dd",
   "metadata": {},
   "outputs": [
    {
     "name": "stdout",
     "output_type": "stream",
     "text": [
      "edge_csv data: 4324\n"
     ]
    }
   ],
   "source": [
    "edge_csv = train_csv[train_csv[\"label\"]==1]\n",
    "print(\"edge_csv data:\", len(edge_csv))"
   ]
  },
  {
   "cell_type": "code",
   "execution_count": 295,
   "id": "64944cb1-83a0-434e-8c94-c17df1f520e6",
   "metadata": {},
   "outputs": [
    {
     "name": "stdout",
     "output_type": "stream",
     "text": [
      "torch.Size([2590, 1433])\n",
      "1433\n"
     ]
    }
   ],
   "source": [
    "class ReadData:\n",
    "    def __init__(self, dataset):\n",
    "        self.__edges = list()\n",
    "        self.__feature = dict()\n",
    "        \n",
    "        train_csv = pd.read_csv(\"../../data/SocialNetowrk/hw2_data/{}/train.csv\".format(dataset))\n",
    "        test_csv = pd.read_csv(\"../../data/SocialNetowrk/hw2_data/{}/test.csv\".format(dataset))\n",
    "        content_csv = pd.read_csv(\"../../data/SocialNetowrk/hw2_data/{}/content.csv\".format(dataset), header=None)\n",
    "        edge_csv = train_csv[train_csv[\"label\"]==1]\n",
    "        train_csv['node_pair'] = train_csv[['to', 'from']].apply(tuple, axis=1)\n",
    "        test_csv['node_pair'] = test_csv[['to', 'from']].apply(tuple, axis=1)\n",
    "        \n",
    "        # get feature\n",
    "        for line in content_csv.to_numpy():\n",
    "            l = line[0].split(\"\\t\")\n",
    "            self.__feature[int(l[0])] = list(map(int,l[1:]))\n",
    "        \n",
    "        # Create an undirected graph G\n",
    "        _, Gtext = self.get_edges(edge_csv.to_numpy())\n",
    "        self.__Graph = nx.Graph(Gtext)\n",
    "        self.__nodes_list = [self.__feature[node] for node in self.__Graph.nodes]\n",
    "        \n",
    "        # get common neighbors\n",
    "        _, common_neighbors = self.get_common_neighbors(train_csv['node_pair'].values)\n",
    "        _, test_common_neighbors = self.get_common_neighbors(test_csv['node_pair'].values)\n",
    "        train_csv[\"ComNei\"] = common_neighbors\n",
    "        test_csv[\"ComNei\"] = test_common_neighbors\n",
    "        \n",
    "        # get Preferential Attachment\n",
    "        _, preatt = self.get_preatt(train_csv['node_pair'].values)\n",
    "        _, test_preatt = self.get_preatt(test_csv['node_pair'].values)\n",
    "        train_csv[\"PreAtt\"] = preatt\n",
    "        test_csv[\"PreAtt\"] = test_preatt\n",
    "        \n",
    "        # get Jaccard's Coefficient\n",
    "        _, jaccard = self.get_jaccard(train_csv['node_pair'].values)\n",
    "        _, test_jaccard = self.get_jaccard(test_csv['node_pair'].values)\n",
    "        train_csv[\"Jaccard\"] = jaccard\n",
    "        test_csv[\"Jaccard\"] = test_jaccard\n",
    "        \n",
    "        # get Adamic/Adar\n",
    "        _, aa = self.get_aa(train_csv['node_pair'].values)\n",
    "        _, test_aa = self.get_aa(test_csv['node_pair'].values)\n",
    "        train_csv[\"AA\"] = aa\n",
    "        test_csv[\"AA\"] = test_aa\n",
    "        \n",
    "        # get Salton index\n",
    "        _, salton = self.get_salton(train_csv['node_pair'].values)\n",
    "        _, test_salton = self.get_salton(test_csv['node_pair'].values)\n",
    "        train_csv[\"Salton\"] = salton\n",
    "        test_csv[\"Salton\"] = test_salton\n",
    "        \n",
    "        # get SΦrensen index\n",
    "        _, sphi = self.get_sphi(train_csv['node_pair'].values)\n",
    "        _, test_sphi = self.get_sphi(test_csv['node_pair'].values)\n",
    "        train_csv[\"Sphi\"] = sphi\n",
    "        test_csv[\"Sphi\"] = test_sphi\n",
    "        \n",
    "        # get hub promoted index\n",
    "        _, hub = self.get_hubpro(train_csv['node_pair'].values)\n",
    "        _, test_hub = self.get_hubpro(test_csv['node_pair'].values)\n",
    "        train_csv[\"HubPro\"] = hub\n",
    "        test_csv[\"HubPro\"] = test_hub\n",
    "        \n",
    "        # get hub depressed index\n",
    "        _, hub = self.get_hubdep(train_csv['node_pair'].values)\n",
    "        _, test_hub = self.get_hubdep(test_csv['node_pair'].values)\n",
    "        train_csv[\"HubDep\"] = hub\n",
    "        test_csv[\"HubDep\"] = test_hub\n",
    "        \n",
    "        # get Leicht-Holme-Newman Index\n",
    "        _, leicht = self.get_leicht(train_csv['node_pair'].values)\n",
    "        _, test_leicht = self.get_leicht(test_csv['node_pair'].values)\n",
    "        train_csv[\"Leicht\"] = leicht\n",
    "        test_csv[\"Leicht\"] = test_leicht\n",
    "        \n",
    "        # get Resource allocation\n",
    "        _, res = self.get_resource(train_csv['node_pair'].values)\n",
    "        _, test_res = self.get_resource(test_csv['node_pair'].values)\n",
    "        train_csv[\"Res\"] = res\n",
    "        test_csv[\"Res\"] = test_res\n",
    "        # print(\"training dataframe: \")\n",
    "        # print(train_csv.sort_values(by=\"ComNei\", ascending=False).head())\n",
    "        # print(\"\\ntesting dataframe: \")\n",
    "        # print(test_csv.sort_values(by=\"ComNei\", ascending=False).head())\n",
    "        self.__data_array = train_csv.to_numpy()\n",
    "        self.__test_array = test_csv.to_numpy()\n",
    "    \n",
    "    def get_nodes(self):\n",
    "        return torch.Tensor(self.__nodes_list)\n",
    "\n",
    "    def get_edges(self, edges_data):\n",
    "        # read node pair\n",
    "        a_list, b_list, Gtext = [], [], []\n",
    "        for line in edges_data:\n",
    "            a_list.append(line[1])\n",
    "            b_list.append(line[2])\n",
    "            Gtext.append((line[1], line[2]))\n",
    "        #self.__edges = [a_list+b_list, b_list+a_list]\n",
    "        self.__edges = [a_list, b_list]\n",
    "        \n",
    "        return torch.tensor(self.__edges,dtype=torch.long), Gtext\n",
    "    \n",
    "    def get_feature(self):\n",
    "        return self.__feature\n",
    "    \n",
    "    def get_common_neighbors(self, node_pairs):\n",
    "        common_neighbors = list()\n",
    "        for i, j in node_pairs:\n",
    "            if i not in self.__Graph.nodes or j not in self.__Graph.nodes:\n",
    "                common_neighbors.append(0)\n",
    "                continue\n",
    "            to_nlist = [ n for n in self.__Graph.neighbors(i)]\n",
    "            from_nlist = [ n for n in self.__Graph.neighbors(j)]\n",
    "            common_neighbors.append(len(set(to_nlist)&set(from_nlist)))\n",
    "            \n",
    "        return torch.Tensor(common_neighbors), common_neighbors\n",
    "    \n",
    "    # Preferential Attachment\n",
    "    def get_preatt(self, node_pairs):\n",
    "        att = list()\n",
    "        for i, j in node_pairs:\n",
    "            if i not in self.__Graph.nodes or j not in self.__Graph.nodes:\n",
    "                att.append(0)\n",
    "                continue\n",
    "            to_nlist = [ n for n in self.__Graph.neighbors(i)]\n",
    "            from_nlist = [ n for n in self.__Graph.neighbors(j)]\n",
    "            att.append(len(to_nlist) * len(from_nlist))\n",
    "            \n",
    "        return  torch.Tensor(att), att\n",
    "    \n",
    "    # Jaccard's Coeffieient\n",
    "    def get_jaccard(self, node_pairs):\n",
    "        jaccard = list()\n",
    "        for i, j in node_pairs:\n",
    "            if i not in self.__Graph.nodes or j not in self.__Graph.nodes:\n",
    "                jaccard.append(0)\n",
    "                continue\n",
    "            to_nlist = [ n for n in self.__Graph.neighbors(i)]\n",
    "            from_nlist = [ n for n in self.__Graph.neighbors(j)]\n",
    "            jaccard.append(round(len(set(to_nlist)&set(from_nlist)) / len(set(to_nlist)|set(from_nlist)), 3))\n",
    "            \n",
    "        return torch.Tensor(jaccard), jaccard\n",
    "    \n",
    "    # Adamic/Adar\n",
    "    def get_aa(self, node_pairs):\n",
    "        aa = list()\n",
    "        for i, j in node_pairs:\n",
    "            if i not in self.__Graph.nodes or j not in self.__Graph.nodes:\n",
    "                aa.append(0)\n",
    "                continue\n",
    "            to_nlist = [ n for n in self.__Graph.neighbors(i)]\n",
    "            from_nlist = [ n for n in self.__Graph.neighbors(j)]\n",
    "            neighbors = set(to_nlist)&set(from_nlist)\n",
    "            aa_score = 0\n",
    "            if len(neighbors) != 0:\n",
    "                for neighbor in neighbors:\n",
    "                    neighbor_friends = [i for i in self.__Graph.neighbors(neighbor)]\n",
    "                    if len(neighbor_friends)==1:\n",
    "                        continue\n",
    "                    aa_score += 1/ math.log(len(neighbor_friends))\n",
    "            aa.append(round(aa_score, 3))\n",
    "            \n",
    "        return torch.Tensor(aa), aa\n",
    "    \n",
    "    # Salton\n",
    "    def get_salton(self, node_pairs):\n",
    "        salton = list()\n",
    "        for i, j in node_pairs:\n",
    "            if i not in self.__Graph.nodes or j not in self.__Graph.nodes:\n",
    "                salton.append(0)\n",
    "                continue\n",
    "            to_nlist = [ n for n in self.__Graph.neighbors(i)]\n",
    "            from_nlist = [ n for n in self.__Graph.neighbors(j)]\n",
    "            salton.append(round(len(set(to_nlist)&set(from_nlist)) / (len(set(to_nlist))*len(set(from_nlist))) ** 0.5, 3))\n",
    "            \n",
    "        return torch.Tensor(salton), salton \n",
    "    \n",
    "    # SΦrensen index\n",
    "    def get_sphi(self, node_pairs):\n",
    "        sphi = list()\n",
    "        for i, j in node_pairs:\n",
    "            if i not in self.__Graph.nodes or j not in self.__Graph.nodes:\n",
    "                sphi.append(0)\n",
    "                continue\n",
    "            to_nlist = [ n for n in self.__Graph.neighbors(i)]\n",
    "            from_nlist = [ n for n in self.__Graph.neighbors(j)]\n",
    "            sphi.append(round(len(set(to_nlist)&set(from_nlist)) * 2 / (len(set(to_nlist)) + len(set(from_nlist))), 3))\n",
    "            \n",
    "        return torch.Tensor(sphi), sphi \n",
    "    \n",
    "    # Hub Promoted\n",
    "    def get_hubpro(self, node_pairs):\n",
    "        hub = list()\n",
    "        for i, j in node_pairs:\n",
    "            if i not in self.__Graph.nodes or j not in self.__Graph.nodes:\n",
    "                hub.append(0)\n",
    "                continue\n",
    "            to_nlist = [ n for n in self.__Graph.neighbors(i)]\n",
    "            from_nlist = [ n for n in self.__Graph.neighbors(j)]\n",
    "            hub.append(round(len(set(to_nlist)&set(from_nlist)) * 2 / min(len(set(to_nlist)), len(set(from_nlist))), 3))\n",
    "            \n",
    "        return torch.Tensor(hub), hub \n",
    "    \n",
    "    # Hub Depressed\n",
    "    def get_hubdep(self, node_pairs):\n",
    "        hub = list()\n",
    "        for i, j in node_pairs:\n",
    "            if i not in self.__Graph.nodes or j not in self.__Graph.nodes:\n",
    "                hub.append(0)\n",
    "                continue\n",
    "            to_nlist = [ n for n in self.__Graph.neighbors(i)]\n",
    "            from_nlist = [ n for n in self.__Graph.neighbors(j)]\n",
    "            hub.append(round(len(set(to_nlist)&set(from_nlist)) * 2 / max(len(set(to_nlist)), len(set(from_nlist))), 3))\n",
    "            \n",
    "        return torch.Tensor(hub), hub \n",
    "    \n",
    "    # Leicht-Holme-Newman\n",
    "    def get_leicht(self, node_pairs):\n",
    "        leicht = list()\n",
    "        for i, j in node_pairs:\n",
    "            if i not in self.__Graph.nodes or j not in self.__Graph.nodes:\n",
    "                leicht.append(0)\n",
    "                continue\n",
    "            to_nlist = [ n for n in self.__Graph.neighbors(i)]\n",
    "            from_nlist = [ n for n in self.__Graph.neighbors(j)]\n",
    "            leicht.append(round(len(set(to_nlist)&set(from_nlist)) / (len(set(to_nlist))*len(set(from_nlist))), 3))\n",
    "            \n",
    "        return torch.Tensor(leicht), leicht \n",
    "    \n",
    "    # Resource allocation\n",
    "    def get_resource(self, node_pairs):\n",
    "        res = list()\n",
    "        for i, j in node_pairs:\n",
    "            if i not in self.__Graph.nodes or j not in self.__Graph.nodes:\n",
    "                res.append(0)\n",
    "                continue\n",
    "            to_nlist = [ n for n in self.__Graph.neighbors(i)]\n",
    "            from_nlist = [ n for n in self.__Graph.neighbors(j)]\n",
    "            neighbors = set(to_nlist)&set(from_nlist)\n",
    "            res_score = 0\n",
    "            if len(neighbors) != 0:\n",
    "                for neighbor in neighbors:\n",
    "                    neighbor_friends = [i for i in self.__Graph.neighbors(neighbor)]\n",
    "                    if len(neighbor_friends)==1:\n",
    "                        continue\n",
    "                    res_score += 1/ len(neighbor_friends)\n",
    "            res.append(round(res_score, 3))\n",
    "            \n",
    "        return torch.Tensor(res), res\n",
    "    \n",
    "    def get_training_data(self):\n",
    "        target = self.__data_array[:, 3]\n",
    "        training_array = self.__data_array[:, 5:].astype(float)\n",
    "        training_array = self.normalize(training_array)\n",
    "        \n",
    "        return training_array, target\n",
    "    \n",
    "    def get_testing_data(self):\n",
    "        testing_array = self.__test_array[:, 4:].astype(float)\n",
    "        testing_array = self.normalize(testing_array)\n",
    "        \n",
    "        return testing_array\n",
    "    \n",
    "    def normalize(self, dataset):\n",
    "        mean = np.mean(dataset, axis=0)\n",
    "        std  = np.std(dataset, axis=0)\n",
    "        \n",
    "        return (dataset - mean)/std\n",
    "        \n",
    "\n",
    "data = ReadData(\"dataset1\")\n",
    "#print(data.get_edges().shape)\n",
    "print(data.get_nodes().shape)\n",
    "#print(data.get_common_neighbors())\n",
    "print(len(data.get_feature()[351]))"
   ]
  },
  {
   "cell_type": "markdown",
   "id": "c92d73d1-d36f-4f33-aa93-875474db279f",
   "metadata": {},
   "source": [
    "## 1. Simple NN"
   ]
  },
  {
   "cell_type": "code",
   "execution_count": 316,
   "id": "c6a6e12d-1a28-4a49-b9da-b820c84180ad",
   "metadata": {},
   "outputs": [],
   "source": [
    "import torch\n",
    "from torchsummary import summary\n",
    "from torch.nn import Linear, Sequential, Sigmoid"
   ]
  },
  {
   "cell_type": "code",
   "execution_count": 319,
   "id": "9efb9f1d-9f1b-4797-b6a2-0f7b2ae8db07",
   "metadata": {},
   "outputs": [
    {
     "name": "stdout",
     "output_type": "stream",
     "text": [
      "----------------------------------------------------------------\n",
      "        Layer (type)               Output Shape         Param #\n",
      "================================================================\n",
      "            Linear-1             [-1, 7817, 32]             352\n",
      "         LeakyReLU-2             [-1, 7817, 32]               0\n",
      "            Linear-3             [-1, 7817, 64]           2,112\n",
      "         LeakyReLU-4             [-1, 7817, 64]               0\n",
      "            Linear-5            [-1, 7817, 128]           8,320\n",
      "         LeakyReLU-6            [-1, 7817, 128]               0\n",
      "            Linear-7             [-1, 7817, 64]           8,256\n",
      "         LeakyReLU-8             [-1, 7817, 64]               0\n",
      "            Linear-9             [-1, 7817, 32]           2,080\n",
      "        LeakyReLU-10             [-1, 7817, 32]               0\n",
      "           Linear-11             [-1, 7817, 16]             528\n",
      "        LeakyReLU-12             [-1, 7817, 16]               0\n",
      "           Linear-13              [-1, 7817, 1]              17\n",
      "================================================================\n",
      "Total params: 21,665\n",
      "Trainable params: 21,665\n",
      "Non-trainable params: 0\n",
      "----------------------------------------------------------------\n",
      "Input size (MB): 0.30\n",
      "Forward/backward pass size (MB): 40.14\n",
      "Params size (MB): 0.08\n",
      "Estimated Total Size (MB): 40.52\n",
      "----------------------------------------------------------------\n"
     ]
    }
   ],
   "source": [
    "class NN(torch.nn.Module):\n",
    "    def __init__(self, feature):\n",
    "        super(NN, self).__init__()\n",
    "        torch.manual_seed(12345)\n",
    "        self.nn = Sequential(\n",
    "            Linear(feature, 32),\n",
    "            torch.nn.LeakyReLU(),\n",
    "            Linear(32, 64), \n",
    "            torch.nn.LeakyReLU(),\n",
    "            Linear(64, 128),\n",
    "            torch.nn.LeakyReLU(),\n",
    "            Linear(128, 64),\n",
    "            torch.nn.LeakyReLU(),\n",
    "            Linear(64, 32),\n",
    "            torch.nn.LeakyReLU(),\n",
    "            Linear(32, 16),\n",
    "            torch.nn.LeakyReLU(),\n",
    "            Linear(16, 1)\n",
    "        )\n",
    "        \n",
    "    def forward(self, x):\n",
    "        out = self.nn(x)\n",
    "        \n",
    "        return out\n",
    "    \n",
    "training_array, target = data.get_training_data()\n",
    "training_array = torch.tensor(training_array).float()\n",
    "target = torch.Tensor(target.astype(int))\n",
    "X_train, X_val, y_train, y_val = train_test_split(training_array, target, test_size=0.1)\n",
    "device = torch.device(\"cuda\" if torch.cuda.is_available() else \"cpu\")\n",
    "nn_model = NN(X_train.shape[1]).to(\"cpu\")\n",
    "summary(nn_model, input_size = X_train.shape, device=\"cpu\")\n",
    "#print(nn_model)"
   ]
  },
  {
   "cell_type": "code",
   "execution_count": 320,
   "id": "d9d5047a-14f9-4edc-abf7-c36d7180d25d",
   "metadata": {},
   "outputs": [],
   "source": [
    "import wandb\n",
    "import torch.nn.functional as F\n",
    "\n",
    "def train(X_train, X_val, y_train, y_val):\n",
    "    # setting\n",
    "    lr = wandb.config[\"learning_rate\"]\n",
    "    MAX_ITERATION = wandb.config[\"MAX_ITERATION\"]\n",
    "    \n",
    "    model = NN(X_train.shape[1])\n",
    "    criterion = torch.nn.CrossEntropyLoss(reduction='sum')  # Define loss criterion.\n",
    "    optimizer = torch.optim.Adam(model.parameters(), lr=lr)\n",
    "    for epoch in range(MAX_ITERATION):\n",
    "        optimizer.zero_grad() # clear existing gradients\n",
    "        # compute BC ranking score\n",
    "        out= model(X_train)\n",
    "        # compute loss\n",
    "        #yij, bij = sample_node(y_hat, edges)\n",
    "        loss = F.binary_cross_entropy_with_logits(out, y_train.reshape(-1, 1), reduction=\"sum\")\n",
    "        if epoch % 500 == 0:\n",
    "            print(\"[{}/{}] Loss:{:.4f}\".format(epoch, MAX_ITERATION, loss.item()))\n",
    "        loss.backward()\n",
    "        # validation\n",
    "        val_loss = validation(model, X_val, y_val)\n",
    "        \n",
    "        wandb.log({\"training_loss\": loss}, step=epoch)\n",
    "        wandb.log({\"val_loss\": val_loss}, step=epoch)\n",
    "        optimizer.step()\n",
    "    \n",
    "    #evaluation \n",
    "    y_train_hat = model(X_train)\n",
    "    y_val_hat = model(X_val)\n",
    "    training_auc, training_pre, val_auc, val_pre = evaluation(y_train.detach().numpy(),\n",
    "                                                              y_val.detach().numpy(),\n",
    "                                                              y_train_hat.detach().numpy(),\n",
    "                                                              y_val_hat.detach().numpy())\n",
    "    wandb.summary[\"Training AUC\"] = training_auc\n",
    "    wandb.summary[\"Training PRE\"] = training_pre\n",
    "    wandb.summary[\"Validation AUC\"] = val_auc\n",
    "    wandb.summary[\"Validation PRE\"] = val_pre\n",
    "    return model\n",
    "        \n",
    "def validation(model, X_val, y_val):\n",
    "    model.eval()\n",
    "    \n",
    "    with torch.no_grad():\n",
    "        out = model(X_val)\n",
    "        loss = F.binary_cross_entropy_with_logits(out, y_val.reshape(-1, 1), reduction=\"sum\")\n",
    "    \n",
    "    return loss.item()\n",
    "\n"
   ]
  },
  {
   "cell_type": "markdown",
   "id": "826c3b19-e563-47e1-867f-09d897cf1717",
   "metadata": {},
   "source": [
    "### Training"
   ]
  },
  {
   "cell_type": "code",
   "execution_count": 321,
   "id": "8dc992de-2da0-42d0-9eb7-056e4bae47a1",
   "metadata": {},
   "outputs": [
    {
     "name": "stderr",
     "output_type": "stream",
     "text": [
      "wandb: WARNING Ignored wandb.init() arg project when running a sweep.\n",
      "wandb: WARNING Ignored wandb.init() arg entity when running a sweep.\n"
     ]
    },
    {
     "data": {
      "text/html": [
       "Tracking run with wandb version 0.12.11"
      ],
      "text/plain": [
       "<IPython.core.display.HTML object>"
      ]
     },
     "metadata": {},
     "output_type": "display_data"
    },
    {
     "data": {
      "text/html": [
       "Run data is saved locally in <code>/home/baron/HW/link_prediction/wandb/run-20220330_194949-uhs4ym6k</code>"
      ],
      "text/plain": [
       "<IPython.core.display.HTML object>"
      ]
     },
     "metadata": {},
     "output_type": "display_data"
    },
    {
     "data": {
      "text/html": [
       "Syncing run <strong><a href=\"https://wandb.ai/baron/Link_Prediction%40MLG/runs/uhs4ym6k\" target=\"_blank\">woven-sweep-100</a></strong> to <a href=\"https://wandb.ai/baron/Link_Prediction%40MLG\" target=\"_blank\">Weights & Biases</a> (<a href=\"https://wandb.me/run\" target=\"_blank\">docs</a>)<br/>Sweep page:  <a href=\"https://wandb.ai/baron/Link_Prediction%40MLG/sweeps/1srz43lz\" target=\"_blank\">https://wandb.ai/baron/Link_Prediction%40MLG/sweeps/1srz43lz</a>"
      ],
      "text/plain": [
       "<IPython.core.display.HTML object>"
      ]
     },
     "metadata": {},
     "output_type": "display_data"
    },
    {
     "name": "stdout",
     "output_type": "stream",
     "text": [
      "[0/10000] Loss:5444.0708\n",
      "[500/10000] Loss:3613.0115\n",
      "[1000/10000] Loss:3517.5767\n",
      "[1500/10000] Loss:3507.4897\n",
      "[2000/10000] Loss:3502.2700\n",
      "[2500/10000] Loss:3496.4570\n",
      "[3000/10000] Loss:3490.4246\n",
      "[3500/10000] Loss:3485.2556\n",
      "[4000/10000] Loss:3476.8940\n",
      "[4500/10000] Loss:3468.6230\n",
      "[5000/10000] Loss:3461.6006\n",
      "[5500/10000] Loss:3453.0957\n",
      "[6000/10000] Loss:3446.4187\n",
      "[6500/10000] Loss:3441.2019\n",
      "[7000/10000] Loss:3436.4324\n",
      "[7500/10000] Loss:3432.9287\n",
      "[8000/10000] Loss:3437.5508\n",
      "[8500/10000] Loss:3430.0747\n",
      "[9000/10000] Loss:3423.9395\n",
      "[9500/10000] Loss:3419.9929\n",
      "\n"
     ]
    },
    {
     "data": {
      "text/html": [
       "Waiting for W&B process to finish... <strong style=\"color:green\">(success).</strong>"
      ],
      "text/plain": [
       "<IPython.core.display.HTML object>"
      ]
     },
     "metadata": {},
     "output_type": "display_data"
    },
    {
     "data": {
      "text/html": [
       "<style>\n",
       "    table.wandb td:nth-child(1) { padding: 0 10px; text-align: right }\n",
       "    .wandb-row { display: flex; flex-direction: row; flex-wrap: wrap; width: 100% }\n",
       "    .wandb-col { display: flex; flex-direction: column; flex-basis: 100%; flex: 1; padding: 10px; }\n",
       "    </style>\n",
       "<div class=\"wandb-row\"><div class=\"wandb-col\"><h3>Run history:</h3><br/><table class=\"wandb\"><tr><td>training_loss</td><td>█▃▂▁▁▁▁▁▁▁▁▁▁▁▁▁▁▁▁▁▁▁▁▁▁▁▁▁▁▁▁▁▁▁▁▁▁▁▁▁</td></tr><tr><td>val_loss</td><td>█▃▂▁▁▁▁▁▁▁▁▁▁▁▁▁▁▁▁▁▁▁▁▁▁▁▁▁▁▁▁▁▁▁▁▁▁▁▁▁</td></tr></table><br/></div><div class=\"wandb-col\"><h3>Run summary:</h3><br/><table class=\"wandb\"><tr><td>Training AUC</td><td>0.85565</td></tr><tr><td>Training PRE</td><td>0.87875</td></tr><tr><td>Validation AUC</td><td>0.84946</td></tr><tr><td>Validation PRE</td><td>0.87619</td></tr><tr><td>training_loss</td><td>3415.75635</td></tr><tr><td>val_loss</td><td>394.60452</td></tr></table><br/></div></div>"
      ],
      "text/plain": [
       "<IPython.core.display.HTML object>"
      ]
     },
     "metadata": {},
     "output_type": "display_data"
    },
    {
     "data": {
      "text/html": [
       "Synced <strong style=\"color:#cdcd00\">woven-sweep-100</strong>: <a href=\"https://wandb.ai/baron/Link_Prediction%40MLG/runs/uhs4ym6k\" target=\"_blank\">https://wandb.ai/baron/Link_Prediction%40MLG/runs/uhs4ym6k</a><br/>Synced 5 W&B file(s), 0 media file(s), 0 artifact file(s) and 0 other file(s)"
      ],
      "text/plain": [
       "<IPython.core.display.HTML object>"
      ]
     },
     "metadata": {},
     "output_type": "display_data"
    },
    {
     "data": {
      "text/html": [
       "Find logs at: <code>./wandb/run-20220330_194949-uhs4ym6k/logs</code>"
      ],
      "text/plain": [
       "<IPython.core.display.HTML object>"
      ]
     },
     "metadata": {},
     "output_type": "display_data"
    }
   ],
   "source": [
    "wandb.init(project='Link_Prediction@MLG', entity=\"baron\")\n",
    "wandb.config[\"learning_rate\"] = 0.0001\n",
    "wandb.config[\"MAX_ITERATION\"] = 10000\n",
    "wandb.config[\"Dataset\"] = \"dataset1\"\n",
    "\n",
    "data = ReadData(wandb.config[\"Dataset\"])\n",
    "training_array, target = data.get_training_data()\n",
    "training_array = torch.tensor(training_array).float()\n",
    "target = torch.Tensor(target.astype(int))\n",
    "X_train, X_val, y_train, y_val = train_test_split(training_array, target, test_size=0.1)\n",
    "nn_model1 = train(X_train, X_val, y_train, y_val)\n",
    "\n",
    "wandb.finish()"
   ]
  },
  {
   "cell_type": "code",
   "execution_count": 322,
   "id": "b80b4c13-0420-4fa7-b217-21f984fe494b",
   "metadata": {},
   "outputs": [
    {
     "name": "stderr",
     "output_type": "stream",
     "text": [
      "wandb: WARNING Ignored wandb.init() arg project when running a sweep.\n",
      "wandb: WARNING Ignored wandb.init() arg entity when running a sweep.\n"
     ]
    },
    {
     "data": {
      "text/html": [
       "Tracking run with wandb version 0.12.11"
      ],
      "text/plain": [
       "<IPython.core.display.HTML object>"
      ]
     },
     "metadata": {},
     "output_type": "display_data"
    },
    {
     "data": {
      "text/html": [
       "Run data is saved locally in <code>/home/baron/HW/link_prediction/wandb/run-20220330_195221-uhs4ym6k</code>"
      ],
      "text/plain": [
       "<IPython.core.display.HTML object>"
      ]
     },
     "metadata": {},
     "output_type": "display_data"
    },
    {
     "data": {
      "text/html": [
       "Syncing run <strong><a href=\"https://wandb.ai/baron/Link_Prediction%40MLG/runs/uhs4ym6k\" target=\"_blank\">woven-sweep-100</a></strong> to <a href=\"https://wandb.ai/baron/Link_Prediction%40MLG\" target=\"_blank\">Weights & Biases</a> (<a href=\"https://wandb.me/run\" target=\"_blank\">docs</a>)<br/>Sweep page:  <a href=\"https://wandb.ai/baron/Link_Prediction%40MLG/sweeps/1srz43lz\" target=\"_blank\">https://wandb.ai/baron/Link_Prediction%40MLG/sweeps/1srz43lz</a>"
      ],
      "text/plain": [
       "<IPython.core.display.HTML object>"
      ]
     },
     "metadata": {},
     "output_type": "display_data"
    },
    {
     "name": "stdout",
     "output_type": "stream",
     "text": [
      "[0/10000] Loss:4726.4482\n",
      "[500/10000] Loss:3322.5095\n",
      "[1000/10000] Loss:3273.3677\n",
      "[1500/10000] Loss:3214.0251\n",
      "[2000/10000] Loss:3175.0457\n",
      "[2500/10000] Loss:3155.9573\n",
      "[3000/10000] Loss:3150.3879\n",
      "[3500/10000] Loss:3142.2351\n",
      "[4000/10000] Loss:3136.0608\n",
      "[4500/10000] Loss:3131.4285\n",
      "[5000/10000] Loss:3129.3289\n",
      "[5500/10000] Loss:3127.7649\n",
      "[6000/10000] Loss:3125.8442\n",
      "[6500/10000] Loss:3122.9280\n",
      "[7000/10000] Loss:3119.7134\n",
      "[7500/10000] Loss:3116.3647\n",
      "[8000/10000] Loss:3113.2212\n",
      "[8500/10000] Loss:3110.6143\n",
      "[9000/10000] Loss:3106.6086\n",
      "[9500/10000] Loss:3104.7983\n",
      "\n"
     ]
    },
    {
     "data": {
      "text/html": [
       "Waiting for W&B process to finish... <strong style=\"color:green\">(success).</strong>"
      ],
      "text/plain": [
       "<IPython.core.display.HTML object>"
      ]
     },
     "metadata": {},
     "output_type": "display_data"
    },
    {
     "data": {
      "text/html": [
       "<style>\n",
       "    table.wandb td:nth-child(1) { padding: 0 10px; text-align: right }\n",
       "    .wandb-row { display: flex; flex-direction: row; flex-wrap: wrap; width: 100% }\n",
       "    .wandb-col { display: flex; flex-direction: column; flex-basis: 100%; flex: 1; padding: 10px; }\n",
       "    </style>\n",
       "<div class=\"wandb-row\"><div class=\"wandb-col\"><h3>Run history:</h3><br/><table class=\"wandb\"><tr><td>training_loss</td><td>█▃▂▂▂▂▂▁▁▁▁▁▁▁▁▁▁▁▁▁▁▁▁▁▁▁▁▁▁▁▁▁▁▁▁▁▁▁▁▂</td></tr><tr><td>val_loss</td><td>█▃▂▂▂▂▁▁▁▁▁▁▁▁▁▁▁▁▁▁▁▁▁▁▁▁▁▁▁▁▁▁▁▁▁▁▁▁▁▁</td></tr></table><br/></div><div class=\"wandb-col\"><h3>Run summary:</h3><br/><table class=\"wandb\"><tr><td>Training AUC</td><td>0.82841</td></tr><tr><td>Training PRE</td><td>0.84948</td></tr><tr><td>Validation AUC</td><td>0.85751</td></tr><tr><td>Validation PRE</td><td>0.87269</td></tr><tr><td>training_loss</td><td>3224.85254</td></tr><tr><td>val_loss</td><td>337.2561</td></tr></table><br/></div></div>"
      ],
      "text/plain": [
       "<IPython.core.display.HTML object>"
      ]
     },
     "metadata": {},
     "output_type": "display_data"
    },
    {
     "data": {
      "text/html": [
       "Synced <strong style=\"color:#cdcd00\">woven-sweep-100</strong>: <a href=\"https://wandb.ai/baron/Link_Prediction%40MLG/runs/uhs4ym6k\" target=\"_blank\">https://wandb.ai/baron/Link_Prediction%40MLG/runs/uhs4ym6k</a><br/>Synced 5 W&B file(s), 0 media file(s), 0 artifact file(s) and 0 other file(s)"
      ],
      "text/plain": [
       "<IPython.core.display.HTML object>"
      ]
     },
     "metadata": {},
     "output_type": "display_data"
    },
    {
     "data": {
      "text/html": [
       "Find logs at: <code>./wandb/run-20220330_195221-uhs4ym6k/logs</code>"
      ],
      "text/plain": [
       "<IPython.core.display.HTML object>"
      ]
     },
     "metadata": {},
     "output_type": "display_data"
    }
   ],
   "source": [
    "wandb.init(project='Link_Prediction@MLG', entity=\"baron\")\n",
    "wandb.config[\"learning_rate\"] = 0.0001\n",
    "wandb.config[\"MAX_ITERATION\"] = 10000\n",
    "wandb.config[\"Dataset\"] = \"dataset2\"\n",
    "\n",
    "data = ReadData(wandb.config[\"Dataset\"])\n",
    "training_array, target = data.get_training_data()\n",
    "training_array = torch.tensor(training_array).float()\n",
    "target = torch.Tensor(target.astype(int))\n",
    "X_train, X_val, y_train, y_val = train_test_split(training_array, target, test_size=0.1)\n",
    "nn_model2 = train(X_train, X_val, y_train, y_val)\n",
    "\n",
    "wandb.finish()"
   ]
  },
  {
   "cell_type": "code",
   "execution_count": 323,
   "id": "19d99e15-13ea-4eff-94ca-9041118d094a",
   "metadata": {},
   "outputs": [
    {
     "name": "stderr",
     "output_type": "stream",
     "text": [
      "wandb: WARNING Ignored wandb.init() arg project when running a sweep.\n",
      "wandb: WARNING Ignored wandb.init() arg entity when running a sweep.\n"
     ]
    },
    {
     "data": {
      "text/html": [
       "Tracking run with wandb version 0.12.11"
      ],
      "text/plain": [
       "<IPython.core.display.HTML object>"
      ]
     },
     "metadata": {},
     "output_type": "display_data"
    },
    {
     "data": {
      "text/html": [
       "Run data is saved locally in <code>/home/baron/HW/link_prediction/wandb/run-20220330_195449-uhs4ym6k</code>"
      ],
      "text/plain": [
       "<IPython.core.display.HTML object>"
      ]
     },
     "metadata": {},
     "output_type": "display_data"
    },
    {
     "data": {
      "text/html": [
       "Syncing run <strong><a href=\"https://wandb.ai/baron/Link_Prediction%40MLG/runs/uhs4ym6k\" target=\"_blank\">woven-sweep-100</a></strong> to <a href=\"https://wandb.ai/baron/Link_Prediction%40MLG\" target=\"_blank\">Weights & Biases</a> (<a href=\"https://wandb.me/run\" target=\"_blank\">docs</a>)<br/>Sweep page:  <a href=\"https://wandb.ai/baron/Link_Prediction%40MLG/sweeps/1srz43lz\" target=\"_blank\">https://wandb.ai/baron/Link_Prediction%40MLG/sweeps/1srz43lz</a>"
      ],
      "text/plain": [
       "<IPython.core.display.HTML object>"
      ]
     },
     "metadata": {},
     "output_type": "display_data"
    },
    {
     "name": "stdout",
     "output_type": "stream",
     "text": [
      "[0/10000] Loss:1610.0048\n",
      "[500/10000] Loss:970.8749\n",
      "[1000/10000] Loss:924.8173\n",
      "[1500/10000] Loss:902.5377\n",
      "[2000/10000] Loss:886.8524\n",
      "[2500/10000] Loss:868.8429\n",
      "[3000/10000] Loss:865.0078\n",
      "[3500/10000] Loss:862.3101\n",
      "[4000/10000] Loss:860.3144\n",
      "[4500/10000] Loss:858.5636\n",
      "[5000/10000] Loss:857.3154\n",
      "[5500/10000] Loss:855.5689\n",
      "[6000/10000] Loss:854.1609\n",
      "[6500/10000] Loss:852.7396\n",
      "[7000/10000] Loss:851.4821\n",
      "[7500/10000] Loss:849.4568\n",
      "[8000/10000] Loss:847.1223\n",
      "[8500/10000] Loss:845.8907\n",
      "[9000/10000] Loss:844.6510\n",
      "[9500/10000] Loss:843.5234\n",
      "\n"
     ]
    },
    {
     "data": {
      "text/html": [
       "Waiting for W&B process to finish... <strong style=\"color:green\">(success).</strong>"
      ],
      "text/plain": [
       "<IPython.core.display.HTML object>"
      ]
     },
     "metadata": {},
     "output_type": "display_data"
    },
    {
     "data": {
      "text/html": [
       "<style>\n",
       "    table.wandb td:nth-child(1) { padding: 0 10px; text-align: right }\n",
       "    .wandb-row { display: flex; flex-direction: row; flex-wrap: wrap; width: 100% }\n",
       "    .wandb-col { display: flex; flex-direction: column; flex-basis: 100%; flex: 1; padding: 10px; }\n",
       "    </style>\n",
       "<div class=\"wandb-row\"><div class=\"wandb-col\"><h3>Run history:</h3><br/><table class=\"wandb\"><tr><td>training_loss</td><td>█▄▂▂▂▂▂▂▁▁▁▁▁▁▁▁▁▁▁▁▁▁▁▁▁▁▁▁▁▁▁▁▁▁▁▁▁▁▁▁</td></tr><tr><td>val_loss</td><td>█▃▁▁▁▁▁▁▁▁▁▁▁▁▁▁▁▁▁▁▁▁▁▁▁▁▁▁▁▁▁▁▁▁▁▁▁▁▁▁</td></tr></table><br/></div><div class=\"wandb-col\"><h3>Run summary:</h3><br/><table class=\"wandb\"><tr><td>Training AUC</td><td>0.90259</td></tr><tr><td>Training PRE</td><td>0.91428</td></tr><tr><td>Validation AUC</td><td>0.88654</td></tr><tr><td>Validation PRE</td><td>0.90982</td></tr><tr><td>training_loss</td><td>842.65417</td></tr><tr><td>val_loss</td><td>102.33006</td></tr></table><br/></div></div>"
      ],
      "text/plain": [
       "<IPython.core.display.HTML object>"
      ]
     },
     "metadata": {},
     "output_type": "display_data"
    },
    {
     "data": {
      "text/html": [
       "Synced <strong style=\"color:#cdcd00\">woven-sweep-100</strong>: <a href=\"https://wandb.ai/baron/Link_Prediction%40MLG/runs/uhs4ym6k\" target=\"_blank\">https://wandb.ai/baron/Link_Prediction%40MLG/runs/uhs4ym6k</a><br/>Synced 5 W&B file(s), 0 media file(s), 0 artifact file(s) and 0 other file(s)"
      ],
      "text/plain": [
       "<IPython.core.display.HTML object>"
      ]
     },
     "metadata": {},
     "output_type": "display_data"
    },
    {
     "data": {
      "text/html": [
       "Find logs at: <code>./wandb/run-20220330_195449-uhs4ym6k/logs</code>"
      ],
      "text/plain": [
       "<IPython.core.display.HTML object>"
      ]
     },
     "metadata": {},
     "output_type": "display_data"
    }
   ],
   "source": [
    "wandb.init(project='Link_Prediction@MLG', entity=\"baron\")\n",
    "wandb.config[\"learning_rate\"] = 0.0001\n",
    "wandb.config[\"MAX_ITERATION\"] = 10000\n",
    "wandb.config[\"Dataset\"] = \"dataset3\"\n",
    "\n",
    "data = ReadData(wandb.config[\"Dataset\"])\n",
    "training_array, target = data.get_training_data()\n",
    "training_array = torch.tensor(training_array).float()\n",
    "target = torch.Tensor(target.astype(int))\n",
    "X_train, X_val, y_train, y_val = train_test_split(training_array, target, test_size=0.1)\n",
    "nn_model3 = train(X_train, X_val, y_train, y_val)\n",
    "\n",
    "wandb.finish()"
   ]
  },
  {
   "cell_type": "markdown",
   "id": "35f3e6e9-6891-4119-8682-f72d6e5dc817",
   "metadata": {},
   "source": [
    "## 2. Random Forest"
   ]
  },
  {
   "cell_type": "code",
   "execution_count": 307,
   "id": "78aaf482-223c-417f-bbc3-35f11bba9057",
   "metadata": {},
   "outputs": [],
   "source": [
    "from sklearn.ensemble import RandomForestRegressor\n",
    "import joblib\n",
    "\n",
    "def RandomForest(dataset, config=False):\n",
    "    training_array, target = dataset.get_training_data()\n",
    "    reg = RandomForestRegressor(n_estimators=int(config[\"n_estimators\"]),\n",
    "                               min_samples_leaf=int(config[\"min_samples_leaf\"]),\n",
    "                               min_samples_split=int(config[\"min_samples_split\"]),\n",
    "                               oob_score=bool(config[\"oob_score\"]))\n",
    "\n",
    "    X_train, X_val, y_train, y_val = train_test_split(training_array, target, test_size=0.2)\n",
    "    y_train = y_train.astype('int')\n",
    "    y_val = y_val.astype('int')\n",
    "\n",
    "    reg.fit(X_train, y_train)\n",
    "    y_train_hat = np.where(reg.predict(X_train)>0.5, 1, 0)\n",
    "    y_val_hat = np.where(reg.predict(X_val)>0.5, 1, 0)\n",
    "\n",
    "    training_auc, training_pre, val_auc, val_pre = evaluation(y_train, y_val, y_train_hat, y_val_hat)\n",
    "    wandb.summary[\"feature_number\"] = X_train.shape[1]\n",
    "    wandb.log({\n",
    "        \"Training AUC\":training_auc,\n",
    "        \"Training PRE\": training_pre,\n",
    "        \"Validation AUC\": val_auc,\n",
    "        \"Validation PRE\": val_pre\n",
    "    })\n",
    "\n",
    "    joblib.dump(reg, os.path.join(wandb.run.dir, 'rf_model.h5'))\n",
    "    \n",
    "    return reg"
   ]
  },
  {
   "cell_type": "markdown",
   "id": "13cb3187-9ed3-4828-806e-5738c69f6c6b",
   "metadata": {},
   "source": [
    "### Training"
   ]
  },
  {
   "cell_type": "code",
   "execution_count": 308,
   "id": "5d9e2391-10f1-4d28-b994-95804804fe85",
   "metadata": {},
   "outputs": [],
   "source": [
    "import wandb \n",
    "from IPython.display import clear_output\n",
    "sweep_config = {\n",
    "    \"method\": \"bayes\",\n",
    "    \"metric\":{\n",
    "        \"name\": \"Validation PRE\",\n",
    "        \"goal\": \"maximize\"\n",
    "    },\n",
    "    \n",
    "    \"parameters\":{\n",
    "        \"n_estimators\":{\n",
    "            'min': 10,\n",
    "            'max': 150\n",
    "        },\n",
    "        \"min_samples_leaf\":{\n",
    "            'min': 1,\n",
    "            'max': 50,\n",
    "        },\n",
    "        \"min_samples_split\":{\n",
    "            'min': 2,\n",
    "            'max': 5\n",
    "        },\n",
    "        \"oob_score\":{\n",
    "            'values': [True, False]\n",
    "        }\n",
    "    }\n",
    "    \n",
    "}"
   ]
  },
  {
   "cell_type": "code",
   "execution_count": 309,
   "id": "56a0f868-46de-485a-9197-ce6e7a8cb041",
   "metadata": {
    "tags": []
   },
   "outputs": [
    {
     "name": "stdout",
     "output_type": "stream",
     "text": [
      "Create sweep with ID: 1srz43lz\n",
      "Sweep URL: https://wandb.ai/baron/Link_Prediction%40MLG/sweeps/1srz43lz\n"
     ]
    },
    {
     "name": "stderr",
     "output_type": "stream",
     "text": [
      "wandb: Agent Starting Run: u24iffmd with config:\n",
      "wandb: \tmin_samples_leaf: 34\n",
      "wandb: \tmin_samples_split: 4\n",
      "wandb: \tn_estimators: 79\n",
      "wandb: \toob_score: False\n",
      "wandb: WARNING Ignored wandb.init() arg project when running a sweep.\n",
      "wandb: WARNING Ignored wandb.init() arg entity when running a sweep.\n"
     ]
    },
    {
     "data": {
      "text/html": [
       "Tracking run with wandb version 0.12.11"
      ],
      "text/plain": [
       "<IPython.core.display.HTML object>"
      ]
     },
     "metadata": {},
     "output_type": "display_data"
    },
    {
     "data": {
      "text/html": [
       "Run data is saved locally in <code>/home/baron/HW/link_prediction/wandb/run-20220330_154319-u24iffmd</code>"
      ],
      "text/plain": [
       "<IPython.core.display.HTML object>"
      ]
     },
     "metadata": {},
     "output_type": "display_data"
    },
    {
     "data": {
      "text/html": [
       "Syncing run <strong><a href=\"https://wandb.ai/baron/Link_Prediction%40MLG/runs/u24iffmd\" target=\"_blank\">stoic-sweep-1</a></strong> to <a href=\"https://wandb.ai/baron/Link_Prediction%40MLG\" target=\"_blank\">Weights & Biases</a> (<a href=\"https://wandb.me/run\" target=\"_blank\">docs</a>)<br/>Sweep page:  <a href=\"https://wandb.ai/baron/Link_Prediction%40MLG/sweeps/1srz43lz\" target=\"_blank\">https://wandb.ai/baron/Link_Prediction%40MLG/sweeps/1srz43lz</a>"
      ],
      "text/plain": [
       "<IPython.core.display.HTML object>"
      ]
     },
     "metadata": {},
     "output_type": "display_data"
    },
    {
     "name": "stdout",
     "output_type": "stream",
     "text": [
      "\n"
     ]
    },
    {
     "data": {
      "text/html": [
       "Waiting for W&B process to finish... <strong style=\"color:green\">(success).</strong>"
      ],
      "text/plain": [
       "<IPython.core.display.HTML object>"
      ]
     },
     "metadata": {},
     "output_type": "display_data"
    },
    {
     "data": {
      "text/html": [
       "<style>\n",
       "    table.wandb td:nth-child(1) { padding: 0 10px; text-align: right }\n",
       "    .wandb-row { display: flex; flex-direction: row; flex-wrap: wrap; width: 100% }\n",
       "    .wandb-col { display: flex; flex-direction: column; flex-basis: 100%; flex: 1; padding: 10px; }\n",
       "    </style>\n",
       "<div class=\"wandb-row\"><div class=\"wandb-col\"><h3>Run history:</h3><br/><table class=\"wandb\"><tr><td>Training AUC</td><td>▁</td></tr><tr><td>Training PRE</td><td>▁</td></tr><tr><td>Validation AUC</td><td>▁</td></tr><tr><td>Validation PRE</td><td>▁</td></tr></table><br/></div><div class=\"wandb-col\"><h3>Run summary:</h3><br/><table class=\"wandb\"><tr><td>Training AUC</td><td>0.8101</td></tr><tr><td>Training PRE</td><td>0.75493</td></tr><tr><td>Validation AUC</td><td>0.79164</td></tr><tr><td>Validation PRE</td><td>0.73425</td></tr><tr><td>feature_number</td><td>10</td></tr></table><br/></div></div>"
      ],
      "text/plain": [
       "<IPython.core.display.HTML object>"
      ]
     },
     "metadata": {},
     "output_type": "display_data"
    },
    {
     "data": {
      "text/html": [
       "Synced <strong style=\"color:#cdcd00\">stoic-sweep-1</strong>: <a href=\"https://wandb.ai/baron/Link_Prediction%40MLG/runs/u24iffmd\" target=\"_blank\">https://wandb.ai/baron/Link_Prediction%40MLG/runs/u24iffmd</a><br/>Synced 4 W&B file(s), 0 media file(s), 0 artifact file(s) and 1 other file(s)"
      ],
      "text/plain": [
       "<IPython.core.display.HTML object>"
      ]
     },
     "metadata": {},
     "output_type": "display_data"
    },
    {
     "data": {
      "text/html": [
       "Find logs at: <code>./wandb/run-20220330_154319-u24iffmd/logs</code>"
      ],
      "text/plain": [
       "<IPython.core.display.HTML object>"
      ]
     },
     "metadata": {},
     "output_type": "display_data"
    },
    {
     "name": "stderr",
     "output_type": "stream",
     "text": [
      "wandb: Agent Starting Run: bxtnoojg with config:\n",
      "wandb: \tmin_samples_leaf: 21\n",
      "wandb: \tmin_samples_split: 4\n",
      "wandb: \tn_estimators: 137\n",
      "wandb: \toob_score: True\n",
      "wandb: WARNING Ignored wandb.init() arg project when running a sweep.\n",
      "wandb: WARNING Ignored wandb.init() arg entity when running a sweep.\n"
     ]
    },
    {
     "data": {
      "text/html": [
       "Tracking run with wandb version 0.12.11"
      ],
      "text/plain": [
       "<IPython.core.display.HTML object>"
      ]
     },
     "metadata": {},
     "output_type": "display_data"
    },
    {
     "data": {
      "text/html": [
       "Run data is saved locally in <code>/home/baron/HW/link_prediction/wandb/run-20220330_154331-bxtnoojg</code>"
      ],
      "text/plain": [
       "<IPython.core.display.HTML object>"
      ]
     },
     "metadata": {},
     "output_type": "display_data"
    },
    {
     "data": {
      "text/html": [
       "Syncing run <strong><a href=\"https://wandb.ai/baron/Link_Prediction%40MLG/runs/bxtnoojg\" target=\"_blank\">eager-sweep-2</a></strong> to <a href=\"https://wandb.ai/baron/Link_Prediction%40MLG\" target=\"_blank\">Weights & Biases</a> (<a href=\"https://wandb.me/run\" target=\"_blank\">docs</a>)<br/>Sweep page:  <a href=\"https://wandb.ai/baron/Link_Prediction%40MLG/sweeps/1srz43lz\" target=\"_blank\">https://wandb.ai/baron/Link_Prediction%40MLG/sweeps/1srz43lz</a>"
      ],
      "text/plain": [
       "<IPython.core.display.HTML object>"
      ]
     },
     "metadata": {},
     "output_type": "display_data"
    },
    {
     "name": "stdout",
     "output_type": "stream",
     "text": [
      "\n"
     ]
    },
    {
     "data": {
      "text/html": [
       "Waiting for W&B process to finish... <strong style=\"color:green\">(success).</strong>"
      ],
      "text/plain": [
       "<IPython.core.display.HTML object>"
      ]
     },
     "metadata": {},
     "output_type": "display_data"
    },
    {
     "data": {
      "text/html": [
       "<style>\n",
       "    table.wandb td:nth-child(1) { padding: 0 10px; text-align: right }\n",
       "    .wandb-row { display: flex; flex-direction: row; flex-wrap: wrap; width: 100% }\n",
       "    .wandb-col { display: flex; flex-direction: column; flex-basis: 100%; flex: 1; padding: 10px; }\n",
       "    </style>\n",
       "<div class=\"wandb-row\"><div class=\"wandb-col\"><h3>Run history:</h3><br/><table class=\"wandb\"><tr><td>Training AUC</td><td>▁</td></tr><tr><td>Training PRE</td><td>▁</td></tr><tr><td>Validation AUC</td><td>▁</td></tr><tr><td>Validation PRE</td><td>▁</td></tr></table><br/></div><div class=\"wandb-col\"><h3>Run summary:</h3><br/><table class=\"wandb\"><tr><td>Training AUC</td><td>0.80604</td></tr><tr><td>Training PRE</td><td>0.7726</td></tr><tr><td>Validation AUC</td><td>0.8192</td></tr><tr><td>Validation PRE</td><td>0.79053</td></tr><tr><td>feature_number</td><td>10</td></tr></table><br/></div></div>"
      ],
      "text/plain": [
       "<IPython.core.display.HTML object>"
      ]
     },
     "metadata": {},
     "output_type": "display_data"
    },
    {
     "data": {
      "text/html": [
       "Synced <strong style=\"color:#cdcd00\">eager-sweep-2</strong>: <a href=\"https://wandb.ai/baron/Link_Prediction%40MLG/runs/bxtnoojg\" target=\"_blank\">https://wandb.ai/baron/Link_Prediction%40MLG/runs/bxtnoojg</a><br/>Synced 4 W&B file(s), 0 media file(s), 0 artifact file(s) and 1 other file(s)"
      ],
      "text/plain": [
       "<IPython.core.display.HTML object>"
      ]
     },
     "metadata": {},
     "output_type": "display_data"
    },
    {
     "data": {
      "text/html": [
       "Find logs at: <code>./wandb/run-20220330_154331-bxtnoojg/logs</code>"
      ],
      "text/plain": [
       "<IPython.core.display.HTML object>"
      ]
     },
     "metadata": {},
     "output_type": "display_data"
    },
    {
     "name": "stderr",
     "output_type": "stream",
     "text": [
      "wandb: Sweep Agent: Waiting for job.\n",
      "wandb: Job received.\n",
      "wandb: Agent Starting Run: xd1t757a with config:\n",
      "wandb: \tmin_samples_leaf: 17\n",
      "wandb: \tmin_samples_split: 4\n",
      "wandb: \tn_estimators: 120\n",
      "wandb: \toob_score: True\n",
      "wandb: WARNING Ignored wandb.init() arg project when running a sweep.\n",
      "wandb: WARNING Ignored wandb.init() arg entity when running a sweep.\n"
     ]
    },
    {
     "data": {
      "text/html": [
       "Tracking run with wandb version 0.12.11"
      ],
      "text/plain": [
       "<IPython.core.display.HTML object>"
      ]
     },
     "metadata": {},
     "output_type": "display_data"
    },
    {
     "data": {
      "text/html": [
       "Run data is saved locally in <code>/home/baron/HW/link_prediction/wandb/run-20220330_154348-xd1t757a</code>"
      ],
      "text/plain": [
       "<IPython.core.display.HTML object>"
      ]
     },
     "metadata": {},
     "output_type": "display_data"
    },
    {
     "data": {
      "text/html": [
       "Syncing run <strong><a href=\"https://wandb.ai/baron/Link_Prediction%40MLG/runs/xd1t757a\" target=\"_blank\">soft-sweep-3</a></strong> to <a href=\"https://wandb.ai/baron/Link_Prediction%40MLG\" target=\"_blank\">Weights & Biases</a> (<a href=\"https://wandb.me/run\" target=\"_blank\">docs</a>)<br/>Sweep page:  <a href=\"https://wandb.ai/baron/Link_Prediction%40MLG/sweeps/1srz43lz\" target=\"_blank\">https://wandb.ai/baron/Link_Prediction%40MLG/sweeps/1srz43lz</a>"
      ],
      "text/plain": [
       "<IPython.core.display.HTML object>"
      ]
     },
     "metadata": {},
     "output_type": "display_data"
    },
    {
     "name": "stdout",
     "output_type": "stream",
     "text": [
      "\n"
     ]
    },
    {
     "data": {
      "text/html": [
       "Waiting for W&B process to finish... <strong style=\"color:green\">(success).</strong>"
      ],
      "text/plain": [
       "<IPython.core.display.HTML object>"
      ]
     },
     "metadata": {},
     "output_type": "display_data"
    },
    {
     "data": {
      "text/html": [
       "<style>\n",
       "    table.wandb td:nth-child(1) { padding: 0 10px; text-align: right }\n",
       "    .wandb-row { display: flex; flex-direction: row; flex-wrap: wrap; width: 100% }\n",
       "    .wandb-col { display: flex; flex-direction: column; flex-basis: 100%; flex: 1; padding: 10px; }\n",
       "    </style>\n",
       "<div class=\"wandb-row\"><div class=\"wandb-col\"><h3>Run history:</h3><br/><table class=\"wandb\"><tr><td>Training AUC</td><td>▁</td></tr><tr><td>Training PRE</td><td>▁</td></tr><tr><td>Validation AUC</td><td>▁</td></tr><tr><td>Validation PRE</td><td>▁</td></tr></table><br/></div><div class=\"wandb-col\"><h3>Run summary:</h3><br/><table class=\"wandb\"><tr><td>Training AUC</td><td>0.8215</td></tr><tr><td>Training PRE</td><td>0.78049</td></tr><tr><td>Validation AUC</td><td>0.76921</td></tr><tr><td>Validation PRE</td><td>0.73341</td></tr><tr><td>feature_number</td><td>10</td></tr></table><br/></div></div>"
      ],
      "text/plain": [
       "<IPython.core.display.HTML object>"
      ]
     },
     "metadata": {},
     "output_type": "display_data"
    },
    {
     "data": {
      "text/html": [
       "Synced <strong style=\"color:#cdcd00\">soft-sweep-3</strong>: <a href=\"https://wandb.ai/baron/Link_Prediction%40MLG/runs/xd1t757a\" target=\"_blank\">https://wandb.ai/baron/Link_Prediction%40MLG/runs/xd1t757a</a><br/>Synced 4 W&B file(s), 0 media file(s), 0 artifact file(s) and 1 other file(s)"
      ],
      "text/plain": [
       "<IPython.core.display.HTML object>"
      ]
     },
     "metadata": {},
     "output_type": "display_data"
    },
    {
     "data": {
      "text/html": [
       "Find logs at: <code>./wandb/run-20220330_154348-xd1t757a/logs</code>"
      ],
      "text/plain": [
       "<IPython.core.display.HTML object>"
      ]
     },
     "metadata": {},
     "output_type": "display_data"
    },
    {
     "name": "stderr",
     "output_type": "stream",
     "text": [
      "wandb: Agent Starting Run: rj3eet2c with config:\n",
      "wandb: \tmin_samples_leaf: 32\n",
      "wandb: \tmin_samples_split: 2\n",
      "wandb: \tn_estimators: 46\n",
      "wandb: \toob_score: True\n",
      "wandb: WARNING Ignored wandb.init() arg project when running a sweep.\n",
      "wandb: WARNING Ignored wandb.init() arg entity when running a sweep.\n"
     ]
    },
    {
     "data": {
      "text/html": [
       "Tracking run with wandb version 0.12.11"
      ],
      "text/plain": [
       "<IPython.core.display.HTML object>"
      ]
     },
     "metadata": {},
     "output_type": "display_data"
    },
    {
     "data": {
      "text/html": [
       "Run data is saved locally in <code>/home/baron/HW/link_prediction/wandb/run-20220330_154400-rj3eet2c</code>"
      ],
      "text/plain": [
       "<IPython.core.display.HTML object>"
      ]
     },
     "metadata": {},
     "output_type": "display_data"
    },
    {
     "data": {
      "text/html": [
       "Syncing run <strong><a href=\"https://wandb.ai/baron/Link_Prediction%40MLG/runs/rj3eet2c\" target=\"_blank\">major-sweep-4</a></strong> to <a href=\"https://wandb.ai/baron/Link_Prediction%40MLG\" target=\"_blank\">Weights & Biases</a> (<a href=\"https://wandb.me/run\" target=\"_blank\">docs</a>)<br/>Sweep page:  <a href=\"https://wandb.ai/baron/Link_Prediction%40MLG/sweeps/1srz43lz\" target=\"_blank\">https://wandb.ai/baron/Link_Prediction%40MLG/sweeps/1srz43lz</a>"
      ],
      "text/plain": [
       "<IPython.core.display.HTML object>"
      ]
     },
     "metadata": {},
     "output_type": "display_data"
    },
    {
     "name": "stdout",
     "output_type": "stream",
     "text": [
      "\n"
     ]
    },
    {
     "data": {
      "text/html": [
       "Waiting for W&B process to finish... <strong style=\"color:green\">(success).</strong>"
      ],
      "text/plain": [
       "<IPython.core.display.HTML object>"
      ]
     },
     "metadata": {},
     "output_type": "display_data"
    },
    {
     "data": {
      "text/html": [
       "<style>\n",
       "    table.wandb td:nth-child(1) { padding: 0 10px; text-align: right }\n",
       "    .wandb-row { display: flex; flex-direction: row; flex-wrap: wrap; width: 100% }\n",
       "    .wandb-col { display: flex; flex-direction: column; flex-basis: 100%; flex: 1; padding: 10px; }\n",
       "    </style>\n",
       "<div class=\"wandb-row\"><div class=\"wandb-col\"><h3>Run history:</h3><br/><table class=\"wandb\"><tr><td>Training AUC</td><td>▁</td></tr><tr><td>Training PRE</td><td>▁</td></tr><tr><td>Validation AUC</td><td>▁</td></tr><tr><td>Validation PRE</td><td>▁</td></tr></table><br/></div><div class=\"wandb-col\"><h3>Run summary:</h3><br/><table class=\"wandb\"><tr><td>Training AUC</td><td>0.80246</td></tr><tr><td>Training PRE</td><td>0.76452</td></tr><tr><td>Validation AUC</td><td>0.81043</td></tr><tr><td>Validation PRE</td><td>0.77702</td></tr><tr><td>feature_number</td><td>10</td></tr></table><br/></div></div>"
      ],
      "text/plain": [
       "<IPython.core.display.HTML object>"
      ]
     },
     "metadata": {},
     "output_type": "display_data"
    },
    {
     "data": {
      "text/html": [
       "Synced <strong style=\"color:#cdcd00\">major-sweep-4</strong>: <a href=\"https://wandb.ai/baron/Link_Prediction%40MLG/runs/rj3eet2c\" target=\"_blank\">https://wandb.ai/baron/Link_Prediction%40MLG/runs/rj3eet2c</a><br/>Synced 4 W&B file(s), 0 media file(s), 0 artifact file(s) and 1 other file(s)"
      ],
      "text/plain": [
       "<IPython.core.display.HTML object>"
      ]
     },
     "metadata": {},
     "output_type": "display_data"
    },
    {
     "data": {
      "text/html": [
       "Find logs at: <code>./wandb/run-20220330_154400-rj3eet2c/logs</code>"
      ],
      "text/plain": [
       "<IPython.core.display.HTML object>"
      ]
     },
     "metadata": {},
     "output_type": "display_data"
    },
    {
     "name": "stderr",
     "output_type": "stream",
     "text": [
      "wandb: Agent Starting Run: opufc0j9 with config:\n",
      "wandb: \tmin_samples_leaf: 6\n",
      "wandb: \tmin_samples_split: 2\n",
      "wandb: \tn_estimators: 43\n",
      "wandb: \toob_score: True\n",
      "wandb: WARNING Ignored wandb.init() arg project when running a sweep.\n",
      "wandb: WARNING Ignored wandb.init() arg entity when running a sweep.\n"
     ]
    },
    {
     "data": {
      "text/html": [
       "Tracking run with wandb version 0.12.11"
      ],
      "text/plain": [
       "<IPython.core.display.HTML object>"
      ]
     },
     "metadata": {},
     "output_type": "display_data"
    },
    {
     "data": {
      "text/html": [
       "Run data is saved locally in <code>/home/baron/HW/link_prediction/wandb/run-20220330_154412-opufc0j9</code>"
      ],
      "text/plain": [
       "<IPython.core.display.HTML object>"
      ]
     },
     "metadata": {},
     "output_type": "display_data"
    },
    {
     "data": {
      "text/html": [
       "Syncing run <strong><a href=\"https://wandb.ai/baron/Link_Prediction%40MLG/runs/opufc0j9\" target=\"_blank\">royal-sweep-5</a></strong> to <a href=\"https://wandb.ai/baron/Link_Prediction%40MLG\" target=\"_blank\">Weights & Biases</a> (<a href=\"https://wandb.me/run\" target=\"_blank\">docs</a>)<br/>Sweep page:  <a href=\"https://wandb.ai/baron/Link_Prediction%40MLG/sweeps/1srz43lz\" target=\"_blank\">https://wandb.ai/baron/Link_Prediction%40MLG/sweeps/1srz43lz</a>"
      ],
      "text/plain": [
       "<IPython.core.display.HTML object>"
      ]
     },
     "metadata": {},
     "output_type": "display_data"
    },
    {
     "name": "stdout",
     "output_type": "stream",
     "text": [
      "\n"
     ]
    },
    {
     "data": {
      "text/html": [
       "Waiting for W&B process to finish... <strong style=\"color:green\">(success).</strong>"
      ],
      "text/plain": [
       "<IPython.core.display.HTML object>"
      ]
     },
     "metadata": {},
     "output_type": "display_data"
    },
    {
     "data": {
      "text/html": [
       "<style>\n",
       "    table.wandb td:nth-child(1) { padding: 0 10px; text-align: right }\n",
       "    .wandb-row { display: flex; flex-direction: row; flex-wrap: wrap; width: 100% }\n",
       "    .wandb-col { display: flex; flex-direction: column; flex-basis: 100%; flex: 1; padding: 10px; }\n",
       "    </style>\n",
       "<div class=\"wandb-row\"><div class=\"wandb-col\"><h3>Run history:</h3><br/><table class=\"wandb\"><tr><td>Training AUC</td><td>▁</td></tr><tr><td>Training PRE</td><td>▁</td></tr><tr><td>Validation AUC</td><td>▁</td></tr><tr><td>Validation PRE</td><td>▁</td></tr></table><br/></div><div class=\"wandb-col\"><h3>Run summary:</h3><br/><table class=\"wandb\"><tr><td>Training AUC</td><td>0.8194</td></tr><tr><td>Training PRE</td><td>0.79098</td></tr><tr><td>Validation AUC</td><td>0.82236</td></tr><tr><td>Validation PRE</td><td>0.78745</td></tr><tr><td>feature_number</td><td>10</td></tr></table><br/></div></div>"
      ],
      "text/plain": [
       "<IPython.core.display.HTML object>"
      ]
     },
     "metadata": {},
     "output_type": "display_data"
    },
    {
     "data": {
      "text/html": [
       "Synced <strong style=\"color:#cdcd00\">royal-sweep-5</strong>: <a href=\"https://wandb.ai/baron/Link_Prediction%40MLG/runs/opufc0j9\" target=\"_blank\">https://wandb.ai/baron/Link_Prediction%40MLG/runs/opufc0j9</a><br/>Synced 4 W&B file(s), 0 media file(s), 0 artifact file(s) and 1 other file(s)"
      ],
      "text/plain": [
       "<IPython.core.display.HTML object>"
      ]
     },
     "metadata": {},
     "output_type": "display_data"
    },
    {
     "data": {
      "text/html": [
       "Find logs at: <code>./wandb/run-20220330_154412-opufc0j9/logs</code>"
      ],
      "text/plain": [
       "<IPython.core.display.HTML object>"
      ]
     },
     "metadata": {},
     "output_type": "display_data"
    },
    {
     "name": "stderr",
     "output_type": "stream",
     "text": [
      "wandb: Agent Starting Run: ey2f5igf with config:\n",
      "wandb: \tmin_samples_leaf: 34\n",
      "wandb: \tmin_samples_split: 5\n",
      "wandb: \tn_estimators: 32\n",
      "wandb: \toob_score: True\n",
      "wandb: WARNING Ignored wandb.init() arg project when running a sweep.\n",
      "wandb: WARNING Ignored wandb.init() arg entity when running a sweep.\n"
     ]
    },
    {
     "data": {
      "text/html": [
       "Tracking run with wandb version 0.12.11"
      ],
      "text/plain": [
       "<IPython.core.display.HTML object>"
      ]
     },
     "metadata": {},
     "output_type": "display_data"
    },
    {
     "data": {
      "text/html": [
       "Run data is saved locally in <code>/home/baron/HW/link_prediction/wandb/run-20220330_154422-ey2f5igf</code>"
      ],
      "text/plain": [
       "<IPython.core.display.HTML object>"
      ]
     },
     "metadata": {},
     "output_type": "display_data"
    },
    {
     "data": {
      "text/html": [
       "Syncing run <strong><a href=\"https://wandb.ai/baron/Link_Prediction%40MLG/runs/ey2f5igf\" target=\"_blank\">rare-sweep-6</a></strong> to <a href=\"https://wandb.ai/baron/Link_Prediction%40MLG\" target=\"_blank\">Weights & Biases</a> (<a href=\"https://wandb.me/run\" target=\"_blank\">docs</a>)<br/>Sweep page:  <a href=\"https://wandb.ai/baron/Link_Prediction%40MLG/sweeps/1srz43lz\" target=\"_blank\">https://wandb.ai/baron/Link_Prediction%40MLG/sweeps/1srz43lz</a>"
      ],
      "text/plain": [
       "<IPython.core.display.HTML object>"
      ]
     },
     "metadata": {},
     "output_type": "display_data"
    },
    {
     "name": "stdout",
     "output_type": "stream",
     "text": [
      "\n"
     ]
    },
    {
     "data": {
      "text/html": [
       "Waiting for W&B process to finish... <strong style=\"color:green\">(success).</strong>"
      ],
      "text/plain": [
       "<IPython.core.display.HTML object>"
      ]
     },
     "metadata": {},
     "output_type": "display_data"
    },
    {
     "data": {
      "text/html": [
       "<style>\n",
       "    table.wandb td:nth-child(1) { padding: 0 10px; text-align: right }\n",
       "    .wandb-row { display: flex; flex-direction: row; flex-wrap: wrap; width: 100% }\n",
       "    .wandb-col { display: flex; flex-direction: column; flex-basis: 100%; flex: 1; padding: 10px; }\n",
       "    </style>\n",
       "<div class=\"wandb-row\"><div class=\"wandb-col\"><h3>Run history:</h3><br/><table class=\"wandb\"><tr><td>Training AUC</td><td>▁</td></tr><tr><td>Training PRE</td><td>▁</td></tr><tr><td>Validation AUC</td><td>▁</td></tr><tr><td>Validation PRE</td><td>▁</td></tr></table><br/></div><div class=\"wandb-col\"><h3>Run summary:</h3><br/><table class=\"wandb\"><tr><td>Training AUC</td><td>0.81186</td></tr><tr><td>Training PRE</td><td>0.75219</td></tr><tr><td>Validation AUC</td><td>0.78595</td></tr><tr><td>Validation PRE</td><td>0.74429</td></tr><tr><td>feature_number</td><td>10</td></tr></table><br/></div></div>"
      ],
      "text/plain": [
       "<IPython.core.display.HTML object>"
      ]
     },
     "metadata": {},
     "output_type": "display_data"
    },
    {
     "data": {
      "text/html": [
       "Synced <strong style=\"color:#cdcd00\">rare-sweep-6</strong>: <a href=\"https://wandb.ai/baron/Link_Prediction%40MLG/runs/ey2f5igf\" target=\"_blank\">https://wandb.ai/baron/Link_Prediction%40MLG/runs/ey2f5igf</a><br/>Synced 4 W&B file(s), 0 media file(s), 0 artifact file(s) and 1 other file(s)"
      ],
      "text/plain": [
       "<IPython.core.display.HTML object>"
      ]
     },
     "metadata": {},
     "output_type": "display_data"
    },
    {
     "data": {
      "text/html": [
       "Find logs at: <code>./wandb/run-20220330_154422-ey2f5igf/logs</code>"
      ],
      "text/plain": [
       "<IPython.core.display.HTML object>"
      ]
     },
     "metadata": {},
     "output_type": "display_data"
    },
    {
     "name": "stderr",
     "output_type": "stream",
     "text": [
      "wandb: Agent Starting Run: zfv5bzuz with config:\n",
      "wandb: \tmin_samples_leaf: 16\n",
      "wandb: \tmin_samples_split: 5\n",
      "wandb: \tn_estimators: 123\n",
      "wandb: \toob_score: True\n",
      "wandb: WARNING Ignored wandb.init() arg project when running a sweep.\n",
      "wandb: WARNING Ignored wandb.init() arg entity when running a sweep.\n"
     ]
    },
    {
     "data": {
      "text/html": [
       "Tracking run with wandb version 0.12.11"
      ],
      "text/plain": [
       "<IPython.core.display.HTML object>"
      ]
     },
     "metadata": {},
     "output_type": "display_data"
    },
    {
     "data": {
      "text/html": [
       "Run data is saved locally in <code>/home/baron/HW/link_prediction/wandb/run-20220330_154433-zfv5bzuz</code>"
      ],
      "text/plain": [
       "<IPython.core.display.HTML object>"
      ]
     },
     "metadata": {},
     "output_type": "display_data"
    },
    {
     "data": {
      "text/html": [
       "Syncing run <strong><a href=\"https://wandb.ai/baron/Link_Prediction%40MLG/runs/zfv5bzuz\" target=\"_blank\">leafy-sweep-7</a></strong> to <a href=\"https://wandb.ai/baron/Link_Prediction%40MLG\" target=\"_blank\">Weights & Biases</a> (<a href=\"https://wandb.me/run\" target=\"_blank\">docs</a>)<br/>Sweep page:  <a href=\"https://wandb.ai/baron/Link_Prediction%40MLG/sweeps/1srz43lz\" target=\"_blank\">https://wandb.ai/baron/Link_Prediction%40MLG/sweeps/1srz43lz</a>"
      ],
      "text/plain": [
       "<IPython.core.display.HTML object>"
      ]
     },
     "metadata": {},
     "output_type": "display_data"
    },
    {
     "name": "stdout",
     "output_type": "stream",
     "text": [
      "\n"
     ]
    },
    {
     "data": {
      "text/html": [
       "Waiting for W&B process to finish... <strong style=\"color:green\">(success).</strong>"
      ],
      "text/plain": [
       "<IPython.core.display.HTML object>"
      ]
     },
     "metadata": {},
     "output_type": "display_data"
    },
    {
     "data": {
      "text/html": [
       "<style>\n",
       "    table.wandb td:nth-child(1) { padding: 0 10px; text-align: right }\n",
       "    .wandb-row { display: flex; flex-direction: row; flex-wrap: wrap; width: 100% }\n",
       "    .wandb-col { display: flex; flex-direction: column; flex-basis: 100%; flex: 1; padding: 10px; }\n",
       "    </style>\n",
       "<div class=\"wandb-row\"><div class=\"wandb-col\"><h3>Run history:</h3><br/><table class=\"wandb\"><tr><td>Training AUC</td><td>▁</td></tr><tr><td>Training PRE</td><td>▁</td></tr><tr><td>Validation AUC</td><td>▁</td></tr><tr><td>Validation PRE</td><td>▁</td></tr></table><br/></div><div class=\"wandb-col\"><h3>Run summary:</h3><br/><table class=\"wandb\"><tr><td>Training AUC</td><td>0.80865</td></tr><tr><td>Training PRE</td><td>0.76848</td></tr><tr><td>Validation AUC</td><td>0.80599</td></tr><tr><td>Validation PRE</td><td>0.76641</td></tr><tr><td>feature_number</td><td>10</td></tr></table><br/></div></div>"
      ],
      "text/plain": [
       "<IPython.core.display.HTML object>"
      ]
     },
     "metadata": {},
     "output_type": "display_data"
    },
    {
     "data": {
      "text/html": [
       "Synced <strong style=\"color:#cdcd00\">leafy-sweep-7</strong>: <a href=\"https://wandb.ai/baron/Link_Prediction%40MLG/runs/zfv5bzuz\" target=\"_blank\">https://wandb.ai/baron/Link_Prediction%40MLG/runs/zfv5bzuz</a><br/>Synced 4 W&B file(s), 0 media file(s), 0 artifact file(s) and 1 other file(s)"
      ],
      "text/plain": [
       "<IPython.core.display.HTML object>"
      ]
     },
     "metadata": {},
     "output_type": "display_data"
    },
    {
     "data": {
      "text/html": [
       "Find logs at: <code>./wandb/run-20220330_154433-zfv5bzuz/logs</code>"
      ],
      "text/plain": [
       "<IPython.core.display.HTML object>"
      ]
     },
     "metadata": {},
     "output_type": "display_data"
    },
    {
     "name": "stderr",
     "output_type": "stream",
     "text": [
      "wandb: Agent Starting Run: bs48ug5h with config:\n",
      "wandb: \tmin_samples_leaf: 14\n",
      "wandb: \tmin_samples_split: 3\n",
      "wandb: \tn_estimators: 17\n",
      "wandb: \toob_score: True\n",
      "wandb: WARNING Ignored wandb.init() arg project when running a sweep.\n",
      "wandb: WARNING Ignored wandb.init() arg entity when running a sweep.\n"
     ]
    },
    {
     "data": {
      "text/html": [
       "Tracking run with wandb version 0.12.11"
      ],
      "text/plain": [
       "<IPython.core.display.HTML object>"
      ]
     },
     "metadata": {},
     "output_type": "display_data"
    },
    {
     "data": {
      "text/html": [
       "Run data is saved locally in <code>/home/baron/HW/link_prediction/wandb/run-20220330_154444-bs48ug5h</code>"
      ],
      "text/plain": [
       "<IPython.core.display.HTML object>"
      ]
     },
     "metadata": {},
     "output_type": "display_data"
    },
    {
     "data": {
      "text/html": [
       "Syncing run <strong><a href=\"https://wandb.ai/baron/Link_Prediction%40MLG/runs/bs48ug5h\" target=\"_blank\">toasty-sweep-8</a></strong> to <a href=\"https://wandb.ai/baron/Link_Prediction%40MLG\" target=\"_blank\">Weights & Biases</a> (<a href=\"https://wandb.me/run\" target=\"_blank\">docs</a>)<br/>Sweep page:  <a href=\"https://wandb.ai/baron/Link_Prediction%40MLG/sweeps/1srz43lz\" target=\"_blank\">https://wandb.ai/baron/Link_Prediction%40MLG/sweeps/1srz43lz</a>"
      ],
      "text/plain": [
       "<IPython.core.display.HTML object>"
      ]
     },
     "metadata": {},
     "output_type": "display_data"
    },
    {
     "name": "stdout",
     "output_type": "stream",
     "text": [
      "\n"
     ]
    },
    {
     "name": "stderr",
     "output_type": "stream",
     "text": [
      "/home/baron/.local/lib/python3.8/site-packages/sklearn/ensemble/_forest.py:560: UserWarning: Some inputs do not have OOB scores. This probably means too few trees were used to compute any reliable OOB estimates.\n",
      "  warn(\n"
     ]
    },
    {
     "data": {
      "text/html": [
       "Waiting for W&B process to finish... <strong style=\"color:green\">(success).</strong>"
      ],
      "text/plain": [
       "<IPython.core.display.HTML object>"
      ]
     },
     "metadata": {},
     "output_type": "display_data"
    },
    {
     "data": {
      "text/html": [
       "<style>\n",
       "    table.wandb td:nth-child(1) { padding: 0 10px; text-align: right }\n",
       "    .wandb-row { display: flex; flex-direction: row; flex-wrap: wrap; width: 100% }\n",
       "    .wandb-col { display: flex; flex-direction: column; flex-basis: 100%; flex: 1; padding: 10px; }\n",
       "    </style>\n",
       "<div class=\"wandb-row\"><div class=\"wandb-col\"><h3>Run history:</h3><br/><table class=\"wandb\"><tr><td>Training AUC</td><td>▁</td></tr><tr><td>Training PRE</td><td>▁</td></tr><tr><td>Validation AUC</td><td>▁</td></tr><tr><td>Validation PRE</td><td>▁</td></tr></table><br/></div><div class=\"wandb-col\"><h3>Run summary:</h3><br/><table class=\"wandb\"><tr><td>Training AUC</td><td>0.81561</td></tr><tr><td>Training PRE</td><td>0.77618</td></tr><tr><td>Validation AUC</td><td>0.82503</td></tr><tr><td>Validation PRE</td><td>0.79715</td></tr><tr><td>feature_number</td><td>10</td></tr></table><br/></div></div>"
      ],
      "text/plain": [
       "<IPython.core.display.HTML object>"
      ]
     },
     "metadata": {},
     "output_type": "display_data"
    },
    {
     "data": {
      "text/html": [
       "Synced <strong style=\"color:#cdcd00\">toasty-sweep-8</strong>: <a href=\"https://wandb.ai/baron/Link_Prediction%40MLG/runs/bs48ug5h\" target=\"_blank\">https://wandb.ai/baron/Link_Prediction%40MLG/runs/bs48ug5h</a><br/>Synced 5 W&B file(s), 0 media file(s), 0 artifact file(s) and 1 other file(s)"
      ],
      "text/plain": [
       "<IPython.core.display.HTML object>"
      ]
     },
     "metadata": {},
     "output_type": "display_data"
    },
    {
     "data": {
      "text/html": [
       "Find logs at: <code>./wandb/run-20220330_154444-bs48ug5h/logs</code>"
      ],
      "text/plain": [
       "<IPython.core.display.HTML object>"
      ]
     },
     "metadata": {},
     "output_type": "display_data"
    },
    {
     "name": "stderr",
     "output_type": "stream",
     "text": [
      "wandb: Agent Starting Run: zwoda40q with config:\n",
      "wandb: \tmin_samples_leaf: 3\n",
      "wandb: \tmin_samples_split: 5\n",
      "wandb: \tn_estimators: 102\n",
      "wandb: \toob_score: False\n",
      "wandb: WARNING Ignored wandb.init() arg project when running a sweep.\n",
      "wandb: WARNING Ignored wandb.init() arg entity when running a sweep.\n"
     ]
    },
    {
     "data": {
      "text/html": [
       "Tracking run with wandb version 0.12.11"
      ],
      "text/plain": [
       "<IPython.core.display.HTML object>"
      ]
     },
     "metadata": {},
     "output_type": "display_data"
    },
    {
     "data": {
      "text/html": [
       "Run data is saved locally in <code>/home/baron/HW/link_prediction/wandb/run-20220330_154454-zwoda40q</code>"
      ],
      "text/plain": [
       "<IPython.core.display.HTML object>"
      ]
     },
     "metadata": {},
     "output_type": "display_data"
    },
    {
     "data": {
      "text/html": [
       "Syncing run <strong><a href=\"https://wandb.ai/baron/Link_Prediction%40MLG/runs/zwoda40q\" target=\"_blank\">icy-sweep-9</a></strong> to <a href=\"https://wandb.ai/baron/Link_Prediction%40MLG\" target=\"_blank\">Weights & Biases</a> (<a href=\"https://wandb.me/run\" target=\"_blank\">docs</a>)<br/>Sweep page:  <a href=\"https://wandb.ai/baron/Link_Prediction%40MLG/sweeps/1srz43lz\" target=\"_blank\">https://wandb.ai/baron/Link_Prediction%40MLG/sweeps/1srz43lz</a>"
      ],
      "text/plain": [
       "<IPython.core.display.HTML object>"
      ]
     },
     "metadata": {},
     "output_type": "display_data"
    },
    {
     "name": "stdout",
     "output_type": "stream",
     "text": [
      "\n"
     ]
    },
    {
     "data": {
      "text/html": [
       "Waiting for W&B process to finish... <strong style=\"color:green\">(success).</strong>"
      ],
      "text/plain": [
       "<IPython.core.display.HTML object>"
      ]
     },
     "metadata": {},
     "output_type": "display_data"
    },
    {
     "data": {
      "text/html": [
       "<style>\n",
       "    table.wandb td:nth-child(1) { padding: 0 10px; text-align: right }\n",
       "    .wandb-row { display: flex; flex-direction: row; flex-wrap: wrap; width: 100% }\n",
       "    .wandb-col { display: flex; flex-direction: column; flex-basis: 100%; flex: 1; padding: 10px; }\n",
       "    </style>\n",
       "<div class=\"wandb-row\"><div class=\"wandb-col\"><h3>Run history:</h3><br/><table class=\"wandb\"><tr><td>Training AUC</td><td>▁</td></tr><tr><td>Training PRE</td><td>▁</td></tr><tr><td>Validation AUC</td><td>▁</td></tr><tr><td>Validation PRE</td><td>▁</td></tr></table><br/></div><div class=\"wandb-col\"><h3>Run summary:</h3><br/><table class=\"wandb\"><tr><td>Training AUC</td><td>0.81931</td></tr><tr><td>Training PRE</td><td>0.77387</td></tr><tr><td>Validation AUC</td><td>0.82704</td></tr><tr><td>Validation PRE</td><td>0.78912</td></tr><tr><td>feature_number</td><td>10</td></tr></table><br/></div></div>"
      ],
      "text/plain": [
       "<IPython.core.display.HTML object>"
      ]
     },
     "metadata": {},
     "output_type": "display_data"
    },
    {
     "data": {
      "text/html": [
       "Synced <strong style=\"color:#cdcd00\">icy-sweep-9</strong>: <a href=\"https://wandb.ai/baron/Link_Prediction%40MLG/runs/zwoda40q\" target=\"_blank\">https://wandb.ai/baron/Link_Prediction%40MLG/runs/zwoda40q</a><br/>Synced 4 W&B file(s), 0 media file(s), 0 artifact file(s) and 1 other file(s)"
      ],
      "text/plain": [
       "<IPython.core.display.HTML object>"
      ]
     },
     "metadata": {},
     "output_type": "display_data"
    },
    {
     "data": {
      "text/html": [
       "Find logs at: <code>./wandb/run-20220330_154454-zwoda40q/logs</code>"
      ],
      "text/plain": [
       "<IPython.core.display.HTML object>"
      ]
     },
     "metadata": {},
     "output_type": "display_data"
    },
    {
     "name": "stderr",
     "output_type": "stream",
     "text": [
      "wandb: Agent Starting Run: hbuu6nwa with config:\n",
      "wandb: \tmin_samples_leaf: 34\n",
      "wandb: \tmin_samples_split: 5\n",
      "wandb: \tn_estimators: 141\n",
      "wandb: \toob_score: True\n",
      "wandb: WARNING Ignored wandb.init() arg project when running a sweep.\n",
      "wandb: WARNING Ignored wandb.init() arg entity when running a sweep.\n"
     ]
    },
    {
     "data": {
      "text/html": [
       "Tracking run with wandb version 0.12.11"
      ],
      "text/plain": [
       "<IPython.core.display.HTML object>"
      ]
     },
     "metadata": {},
     "output_type": "display_data"
    },
    {
     "data": {
      "text/html": [
       "Run data is saved locally in <code>/home/baron/HW/link_prediction/wandb/run-20220330_154505-hbuu6nwa</code>"
      ],
      "text/plain": [
       "<IPython.core.display.HTML object>"
      ]
     },
     "metadata": {},
     "output_type": "display_data"
    },
    {
     "data": {
      "text/html": [
       "Syncing run <strong><a href=\"https://wandb.ai/baron/Link_Prediction%40MLG/runs/hbuu6nwa\" target=\"_blank\">vibrant-sweep-10</a></strong> to <a href=\"https://wandb.ai/baron/Link_Prediction%40MLG\" target=\"_blank\">Weights & Biases</a> (<a href=\"https://wandb.me/run\" target=\"_blank\">docs</a>)<br/>Sweep page:  <a href=\"https://wandb.ai/baron/Link_Prediction%40MLG/sweeps/1srz43lz\" target=\"_blank\">https://wandb.ai/baron/Link_Prediction%40MLG/sweeps/1srz43lz</a>"
      ],
      "text/plain": [
       "<IPython.core.display.HTML object>"
      ]
     },
     "metadata": {},
     "output_type": "display_data"
    },
    {
     "name": "stdout",
     "output_type": "stream",
     "text": [
      "\n"
     ]
    },
    {
     "data": {
      "text/html": [
       "Waiting for W&B process to finish... <strong style=\"color:green\">(success).</strong>"
      ],
      "text/plain": [
       "<IPython.core.display.HTML object>"
      ]
     },
     "metadata": {},
     "output_type": "display_data"
    },
    {
     "data": {
      "text/html": [
       "<style>\n",
       "    table.wandb td:nth-child(1) { padding: 0 10px; text-align: right }\n",
       "    .wandb-row { display: flex; flex-direction: row; flex-wrap: wrap; width: 100% }\n",
       "    .wandb-col { display: flex; flex-direction: column; flex-basis: 100%; flex: 1; padding: 10px; }\n",
       "    </style>\n",
       "<div class=\"wandb-row\"><div class=\"wandb-col\"><h3>Run history:</h3><br/><table class=\"wandb\"><tr><td>Training AUC</td><td>▁</td></tr><tr><td>Training PRE</td><td>▁</td></tr><tr><td>Validation AUC</td><td>▁</td></tr><tr><td>Validation PRE</td><td>▁</td></tr></table><br/></div><div class=\"wandb-col\"><h3>Run summary:</h3><br/><table class=\"wandb\"><tr><td>Training AUC</td><td>0.81106</td></tr><tr><td>Training PRE</td><td>0.76901</td></tr><tr><td>Validation AUC</td><td>0.79232</td></tr><tr><td>Validation PRE</td><td>0.75611</td></tr><tr><td>feature_number</td><td>10</td></tr></table><br/></div></div>"
      ],
      "text/plain": [
       "<IPython.core.display.HTML object>"
      ]
     },
     "metadata": {},
     "output_type": "display_data"
    },
    {
     "data": {
      "text/html": [
       "Synced <strong style=\"color:#cdcd00\">vibrant-sweep-10</strong>: <a href=\"https://wandb.ai/baron/Link_Prediction%40MLG/runs/hbuu6nwa\" target=\"_blank\">https://wandb.ai/baron/Link_Prediction%40MLG/runs/hbuu6nwa</a><br/>Synced 4 W&B file(s), 0 media file(s), 0 artifact file(s) and 1 other file(s)"
      ],
      "text/plain": [
       "<IPython.core.display.HTML object>"
      ]
     },
     "metadata": {},
     "output_type": "display_data"
    },
    {
     "data": {
      "text/html": [
       "Find logs at: <code>./wandb/run-20220330_154505-hbuu6nwa/logs</code>"
      ],
      "text/plain": [
       "<IPython.core.display.HTML object>"
      ]
     },
     "metadata": {},
     "output_type": "display_data"
    },
    {
     "name": "stderr",
     "output_type": "stream",
     "text": [
      "wandb: Agent Starting Run: 3m31m7hq with config:\n",
      "wandb: \tmin_samples_leaf: 26\n",
      "wandb: \tmin_samples_split: 3\n",
      "wandb: \tn_estimators: 105\n",
      "wandb: \toob_score: True\n",
      "wandb: WARNING Ignored wandb.init() arg project when running a sweep.\n",
      "wandb: WARNING Ignored wandb.init() arg entity when running a sweep.\n"
     ]
    },
    {
     "data": {
      "text/html": [
       "Tracking run with wandb version 0.12.11"
      ],
      "text/plain": [
       "<IPython.core.display.HTML object>"
      ]
     },
     "metadata": {},
     "output_type": "display_data"
    },
    {
     "data": {
      "text/html": [
       "Run data is saved locally in <code>/home/baron/HW/link_prediction/wandb/run-20220330_154520-3m31m7hq</code>"
      ],
      "text/plain": [
       "<IPython.core.display.HTML object>"
      ]
     },
     "metadata": {},
     "output_type": "display_data"
    },
    {
     "data": {
      "text/html": [
       "Syncing run <strong><a href=\"https://wandb.ai/baron/Link_Prediction%40MLG/runs/3m31m7hq\" target=\"_blank\">polished-sweep-11</a></strong> to <a href=\"https://wandb.ai/baron/Link_Prediction%40MLG\" target=\"_blank\">Weights & Biases</a> (<a href=\"https://wandb.me/run\" target=\"_blank\">docs</a>)<br/>Sweep page:  <a href=\"https://wandb.ai/baron/Link_Prediction%40MLG/sweeps/1srz43lz\" target=\"_blank\">https://wandb.ai/baron/Link_Prediction%40MLG/sweeps/1srz43lz</a>"
      ],
      "text/plain": [
       "<IPython.core.display.HTML object>"
      ]
     },
     "metadata": {},
     "output_type": "display_data"
    },
    {
     "name": "stdout",
     "output_type": "stream",
     "text": [
      "\n"
     ]
    },
    {
     "data": {
      "text/html": [
       "Waiting for W&B process to finish... <strong style=\"color:green\">(success).</strong>"
      ],
      "text/plain": [
       "<IPython.core.display.HTML object>"
      ]
     },
     "metadata": {},
     "output_type": "display_data"
    },
    {
     "data": {
      "text/html": [
       "<style>\n",
       "    table.wandb td:nth-child(1) { padding: 0 10px; text-align: right }\n",
       "    .wandb-row { display: flex; flex-direction: row; flex-wrap: wrap; width: 100% }\n",
       "    .wandb-col { display: flex; flex-direction: column; flex-basis: 100%; flex: 1; padding: 10px; }\n",
       "    </style>\n",
       "<div class=\"wandb-row\"><div class=\"wandb-col\"><h3>Run history:</h3><br/><table class=\"wandb\"><tr><td>Training AUC</td><td>▁</td></tr><tr><td>Training PRE</td><td>▁</td></tr><tr><td>Validation AUC</td><td>▁</td></tr><tr><td>Validation PRE</td><td>▁</td></tr></table><br/></div><div class=\"wandb-col\"><h3>Run summary:</h3><br/><table class=\"wandb\"><tr><td>Training AUC</td><td>0.81038</td></tr><tr><td>Training PRE</td><td>0.7634</td></tr><tr><td>Validation AUC</td><td>0.79864</td></tr><tr><td>Validation PRE</td><td>0.73643</td></tr><tr><td>feature_number</td><td>10</td></tr></table><br/></div></div>"
      ],
      "text/plain": [
       "<IPython.core.display.HTML object>"
      ]
     },
     "metadata": {},
     "output_type": "display_data"
    },
    {
     "data": {
      "text/html": [
       "Synced <strong style=\"color:#cdcd00\">polished-sweep-11</strong>: <a href=\"https://wandb.ai/baron/Link_Prediction%40MLG/runs/3m31m7hq\" target=\"_blank\">https://wandb.ai/baron/Link_Prediction%40MLG/runs/3m31m7hq</a><br/>Synced 4 W&B file(s), 0 media file(s), 0 artifact file(s) and 1 other file(s)"
      ],
      "text/plain": [
       "<IPython.core.display.HTML object>"
      ]
     },
     "metadata": {},
     "output_type": "display_data"
    },
    {
     "data": {
      "text/html": [
       "Find logs at: <code>./wandb/run-20220330_154520-3m31m7hq/logs</code>"
      ],
      "text/plain": [
       "<IPython.core.display.HTML object>"
      ]
     },
     "metadata": {},
     "output_type": "display_data"
    },
    {
     "name": "stderr",
     "output_type": "stream",
     "text": [
      "wandb: Agent Starting Run: sln942e2 with config:\n",
      "wandb: \tmin_samples_leaf: 33\n",
      "wandb: \tmin_samples_split: 3\n",
      "wandb: \tn_estimators: 149\n",
      "wandb: \toob_score: False\n",
      "wandb: WARNING Ignored wandb.init() arg project when running a sweep.\n",
      "wandb: WARNING Ignored wandb.init() arg entity when running a sweep.\n"
     ]
    },
    {
     "data": {
      "text/html": [
       "Tracking run with wandb version 0.12.11"
      ],
      "text/plain": [
       "<IPython.core.display.HTML object>"
      ]
     },
     "metadata": {},
     "output_type": "display_data"
    },
    {
     "data": {
      "text/html": [
       "Run data is saved locally in <code>/home/baron/HW/link_prediction/wandb/run-20220330_154532-sln942e2</code>"
      ],
      "text/plain": [
       "<IPython.core.display.HTML object>"
      ]
     },
     "metadata": {},
     "output_type": "display_data"
    },
    {
     "data": {
      "text/html": [
       "Syncing run <strong><a href=\"https://wandb.ai/baron/Link_Prediction%40MLG/runs/sln942e2\" target=\"_blank\">frosty-sweep-12</a></strong> to <a href=\"https://wandb.ai/baron/Link_Prediction%40MLG\" target=\"_blank\">Weights & Biases</a> (<a href=\"https://wandb.me/run\" target=\"_blank\">docs</a>)<br/>Sweep page:  <a href=\"https://wandb.ai/baron/Link_Prediction%40MLG/sweeps/1srz43lz\" target=\"_blank\">https://wandb.ai/baron/Link_Prediction%40MLG/sweeps/1srz43lz</a>"
      ],
      "text/plain": [
       "<IPython.core.display.HTML object>"
      ]
     },
     "metadata": {},
     "output_type": "display_data"
    },
    {
     "name": "stdout",
     "output_type": "stream",
     "text": [
      "\n"
     ]
    },
    {
     "data": {
      "text/html": [
       "Waiting for W&B process to finish... <strong style=\"color:green\">(success).</strong>"
      ],
      "text/plain": [
       "<IPython.core.display.HTML object>"
      ]
     },
     "metadata": {},
     "output_type": "display_data"
    },
    {
     "data": {
      "text/html": [
       "<style>\n",
       "    table.wandb td:nth-child(1) { padding: 0 10px; text-align: right }\n",
       "    .wandb-row { display: flex; flex-direction: row; flex-wrap: wrap; width: 100% }\n",
       "    .wandb-col { display: flex; flex-direction: column; flex-basis: 100%; flex: 1; padding: 10px; }\n",
       "    </style>\n",
       "<div class=\"wandb-row\"><div class=\"wandb-col\"><h3>Run history:</h3><br/><table class=\"wandb\"><tr><td>Training AUC</td><td>▁</td></tr><tr><td>Training PRE</td><td>▁</td></tr><tr><td>Validation AUC</td><td>▁</td></tr><tr><td>Validation PRE</td><td>▁</td></tr></table><br/></div><div class=\"wandb-col\"><h3>Run summary:</h3><br/><table class=\"wandb\"><tr><td>Training AUC</td><td>0.80959</td></tr><tr><td>Training PRE</td><td>0.75627</td></tr><tr><td>Validation AUC</td><td>0.81504</td></tr><tr><td>Validation PRE</td><td>0.75704</td></tr><tr><td>feature_number</td><td>10</td></tr></table><br/></div></div>"
      ],
      "text/plain": [
       "<IPython.core.display.HTML object>"
      ]
     },
     "metadata": {},
     "output_type": "display_data"
    },
    {
     "data": {
      "text/html": [
       "Synced <strong style=\"color:#cdcd00\">frosty-sweep-12</strong>: <a href=\"https://wandb.ai/baron/Link_Prediction%40MLG/runs/sln942e2\" target=\"_blank\">https://wandb.ai/baron/Link_Prediction%40MLG/runs/sln942e2</a><br/>Synced 4 W&B file(s), 0 media file(s), 0 artifact file(s) and 1 other file(s)"
      ],
      "text/plain": [
       "<IPython.core.display.HTML object>"
      ]
     },
     "metadata": {},
     "output_type": "display_data"
    },
    {
     "data": {
      "text/html": [
       "Find logs at: <code>./wandb/run-20220330_154532-sln942e2/logs</code>"
      ],
      "text/plain": [
       "<IPython.core.display.HTML object>"
      ]
     },
     "metadata": {},
     "output_type": "display_data"
    },
    {
     "name": "stderr",
     "output_type": "stream",
     "text": [
      "wandb: Agent Starting Run: wwcriamj with config:\n",
      "wandb: \tmin_samples_leaf: 13\n",
      "wandb: \tmin_samples_split: 2\n",
      "wandb: \tn_estimators: 45\n",
      "wandb: \toob_score: True\n",
      "wandb: WARNING Ignored wandb.init() arg project when running a sweep.\n",
      "wandb: WARNING Ignored wandb.init() arg entity when running a sweep.\n"
     ]
    },
    {
     "data": {
      "text/html": [
       "Tracking run with wandb version 0.12.11"
      ],
      "text/plain": [
       "<IPython.core.display.HTML object>"
      ]
     },
     "metadata": {},
     "output_type": "display_data"
    },
    {
     "data": {
      "text/html": [
       "Run data is saved locally in <code>/home/baron/HW/link_prediction/wandb/run-20220330_154543-wwcriamj</code>"
      ],
      "text/plain": [
       "<IPython.core.display.HTML object>"
      ]
     },
     "metadata": {},
     "output_type": "display_data"
    },
    {
     "data": {
      "text/html": [
       "Syncing run <strong><a href=\"https://wandb.ai/baron/Link_Prediction%40MLG/runs/wwcriamj\" target=\"_blank\">floral-sweep-13</a></strong> to <a href=\"https://wandb.ai/baron/Link_Prediction%40MLG\" target=\"_blank\">Weights & Biases</a> (<a href=\"https://wandb.me/run\" target=\"_blank\">docs</a>)<br/>Sweep page:  <a href=\"https://wandb.ai/baron/Link_Prediction%40MLG/sweeps/1srz43lz\" target=\"_blank\">https://wandb.ai/baron/Link_Prediction%40MLG/sweeps/1srz43lz</a>"
      ],
      "text/plain": [
       "<IPython.core.display.HTML object>"
      ]
     },
     "metadata": {},
     "output_type": "display_data"
    },
    {
     "name": "stdout",
     "output_type": "stream",
     "text": [
      "\n"
     ]
    },
    {
     "data": {
      "text/html": [
       "Waiting for W&B process to finish... <strong style=\"color:green\">(success).</strong>"
      ],
      "text/plain": [
       "<IPython.core.display.HTML object>"
      ]
     },
     "metadata": {},
     "output_type": "display_data"
    },
    {
     "data": {
      "text/html": [
       "<style>\n",
       "    table.wandb td:nth-child(1) { padding: 0 10px; text-align: right }\n",
       "    .wandb-row { display: flex; flex-direction: row; flex-wrap: wrap; width: 100% }\n",
       "    .wandb-col { display: flex; flex-direction: column; flex-basis: 100%; flex: 1; padding: 10px; }\n",
       "    </style>\n",
       "<div class=\"wandb-row\"><div class=\"wandb-col\"><h3>Run history:</h3><br/><table class=\"wandb\"><tr><td>Training AUC</td><td>▁</td></tr><tr><td>Training PRE</td><td>▁</td></tr><tr><td>Validation AUC</td><td>▁</td></tr><tr><td>Validation PRE</td><td>▁</td></tr></table><br/></div><div class=\"wandb-col\"><h3>Run summary:</h3><br/><table class=\"wandb\"><tr><td>Training AUC</td><td>0.81795</td></tr><tr><td>Training PRE</td><td>0.7768</td></tr><tr><td>Validation AUC</td><td>0.81629</td></tr><tr><td>Validation PRE</td><td>0.79443</td></tr><tr><td>feature_number</td><td>10</td></tr></table><br/></div></div>"
      ],
      "text/plain": [
       "<IPython.core.display.HTML object>"
      ]
     },
     "metadata": {},
     "output_type": "display_data"
    },
    {
     "data": {
      "text/html": [
       "Synced <strong style=\"color:#cdcd00\">floral-sweep-13</strong>: <a href=\"https://wandb.ai/baron/Link_Prediction%40MLG/runs/wwcriamj\" target=\"_blank\">https://wandb.ai/baron/Link_Prediction%40MLG/runs/wwcriamj</a><br/>Synced 4 W&B file(s), 0 media file(s), 0 artifact file(s) and 1 other file(s)"
      ],
      "text/plain": [
       "<IPython.core.display.HTML object>"
      ]
     },
     "metadata": {},
     "output_type": "display_data"
    },
    {
     "data": {
      "text/html": [
       "Find logs at: <code>./wandb/run-20220330_154543-wwcriamj/logs</code>"
      ],
      "text/plain": [
       "<IPython.core.display.HTML object>"
      ]
     },
     "metadata": {},
     "output_type": "display_data"
    },
    {
     "name": "stderr",
     "output_type": "stream",
     "text": [
      "wandb: Agent Starting Run: zo708sxs with config:\n",
      "wandb: \tmin_samples_leaf: 3\n",
      "wandb: \tmin_samples_split: 5\n",
      "wandb: \tn_estimators: 14\n",
      "wandb: \toob_score: False\n",
      "wandb: WARNING Ignored wandb.init() arg project when running a sweep.\n",
      "wandb: WARNING Ignored wandb.init() arg entity when running a sweep.\n"
     ]
    },
    {
     "data": {
      "text/html": [
       "Tracking run with wandb version 0.12.11"
      ],
      "text/plain": [
       "<IPython.core.display.HTML object>"
      ]
     },
     "metadata": {},
     "output_type": "display_data"
    },
    {
     "data": {
      "text/html": [
       "Run data is saved locally in <code>/home/baron/HW/link_prediction/wandb/run-20220330_154554-zo708sxs</code>"
      ],
      "text/plain": [
       "<IPython.core.display.HTML object>"
      ]
     },
     "metadata": {},
     "output_type": "display_data"
    },
    {
     "data": {
      "text/html": [
       "Syncing run <strong><a href=\"https://wandb.ai/baron/Link_Prediction%40MLG/runs/zo708sxs\" target=\"_blank\">pretty-sweep-14</a></strong> to <a href=\"https://wandb.ai/baron/Link_Prediction%40MLG\" target=\"_blank\">Weights & Biases</a> (<a href=\"https://wandb.me/run\" target=\"_blank\">docs</a>)<br/>Sweep page:  <a href=\"https://wandb.ai/baron/Link_Prediction%40MLG/sweeps/1srz43lz\" target=\"_blank\">https://wandb.ai/baron/Link_Prediction%40MLG/sweeps/1srz43lz</a>"
      ],
      "text/plain": [
       "<IPython.core.display.HTML object>"
      ]
     },
     "metadata": {},
     "output_type": "display_data"
    },
    {
     "name": "stdout",
     "output_type": "stream",
     "text": [
      "\n"
     ]
    },
    {
     "name": "stderr",
     "output_type": "stream",
     "text": [
      "IOPub message rate exceeded.\n",
      "The Jupyter server will temporarily stop sending output\n",
      "to the client in order to avoid crashing it.\n",
      "To change this limit, set the config variable\n",
      "`--ServerApp.iopub_msg_rate_limit`.\n",
      "\n",
      "Current values:\n",
      "ServerApp.iopub_msg_rate_limit=1000.0 (msgs/sec)\n",
      "ServerApp.rate_limit_window=3.0 (secs)\n",
      "\n"
     ]
    }
   ],
   "source": [
    "def train_dataset1_rf():\n",
    "    with wandb.init(project='Link_Prediction@MLG', entity=\"baron\", group=\"rf\") as run:\n",
    "        config = wandb.config\n",
    "        dataset = ReadData(\"dataset1\")\n",
    "        model = RandomForest(dataset, config)\n",
    "        \n",
    "def train_dataset2_rf():\n",
    "    with wandb.init(project='Link_Prediction@MLG', entity=\"baron\", group=\"rf\") as run:\n",
    "        config = wandb.config\n",
    "        dataset = ReadData(\"dataset2\")\n",
    "        model = RandomForest(dataset, config)\n",
    "\n",
    "def train_dataset3_rf():\n",
    "    with wandb.init(project='Link_Prediction@MLG', entity=\"baron\", group=\"rf\") as run:\n",
    "        config = wandb.config\n",
    "        dataset = ReadData(\"dataset3\")\n",
    "        model = RandomForest(dataset, config)\n",
    "\n",
    "        \n",
    "count = 100 # number of runs to execute\n",
    "# training dataset 1\n",
    "dataset1 = ReadData(\"dataset1\")\n",
    "sweep_id = wandb.sweep(sweep_config)\n",
    "wandb.agent(sweep_id, function=train_dataset2_rf, count=count)\n",
    "clear_output()\n",
    "# training dataset 2\n",
    "dataset2 = ReadData(\"dataset2\")\n",
    "sweep_id = wandb.sweep(sweep_config)\n",
    "wandb.agent(sweep_id, function=train_dataset2_rf, count=count)\n",
    "clear_output()\n",
    "# training dataset 3\n",
    "dataset3 = ReadData(\"dataset3\")\n",
    "sweep_id = wandb.sweep(sweep_config)\n",
    "wandb.agent(sweep_id, function=train_dataset3_rf, count=count)  \n",
    "clear_output()"
   ]
  },
  {
   "cell_type": "code",
   "execution_count": 314,
   "id": "e852b74f-26b3-4533-aa73-b5ef4c8aeb94",
   "metadata": {},
   "outputs": [
    {
     "name": "stdout",
     "output_type": "stream",
     "text": [
      "Dataset1: \n",
      "training auc: 0.765 pre: 0.702, validation auc: 0.753 pre: 0.694\n",
      "Dataset2: \n",
      "training auc: 0.747 pre: 0.702, validation auc: 0.748 pre: 0.699\n",
      "Dataset3: \n",
      "training auc: 0.820 pre: 0.790, validation auc: 0.803 pre: 0.759\n"
     ]
    }
   ],
   "source": [
    "import tempfile\n",
    "\n",
    "def dict_to_config(d):\n",
    "    class Object(object):\n",
    "        pass\n",
    "\n",
    "    config = Object()\n",
    "    for key, value in d.items():\n",
    "        setattr(config, key, value)\n",
    "    return config\n",
    "\n",
    "def parse_wandb_models(path, model_name, numbers_models=None, metric=None):\n",
    "    '''Parse wandb models with either run paths or a sweep path.\n",
    "\n",
    "    Args:\n",
    "        path: a list contains either run paths or a sweep path\n",
    "        numbers_models: a integer or a list of numbers of models.\n",
    "                        if None, treat path as run paths, otherwise treat it as a sweep path.\n",
    "        metric: metric to sort by when parsing a sweep path\n",
    "    '''\n",
    "    api = wandb.Api()\n",
    "    models, configs, model_paths = list(), list(), list()\n",
    "    sweep_name = ''\n",
    "\n",
    "    modeldir = tempfile.mkdtemp()\n",
    "\n",
    "    if numbers_models is not None: # sweep\n",
    "        numbers_models = max(numbers_models) if isinstance(numbers_models, list) else numbers_models\n",
    "\n",
    "        sweep = api.sweep(path[0])\n",
    "        sweep_name = sweep.config.get('name', '')\n",
    "        # sort runs by metric\n",
    "        runs = sorted(sweep.runs, key=lambda run: run.summary.get(metric, 0), \n",
    "                            reverse=True)\n",
    "        runs = runs[:numbers_models]\n",
    "        \n",
    "    else:\n",
    "        runs = [api.run(p) for p in path]\n",
    "\n",
    "    for run in runs:\n",
    "        run.file('{}.h5'.format(model_name)).download(replace=True, root=modeldir)\n",
    "\n",
    "        # load_model =\n",
    "        models.append(joblib.load(modeldir + '/{}.h5'.format(model_name)))\n",
    "\n",
    "        configs.append(dict_to_config(run.config))\n",
    "        model_paths.append(run.path)\n",
    "\n",
    "    return models, configs, model_paths, sweep_name\n",
    "\n",
    "def MeanAccuracy(dataset, models):\n",
    "    sum_training_auc, sum_training_pre, sum_val_auc, sum_val_pre = 0, 0, 0, 0\n",
    "    n = len(model_paths)\n",
    "    training_array, target = dataset.get_training_data()\n",
    "    X_train, X_val, y_train, y_val = train_test_split(training_array, target, test_size=0.2)\n",
    "    for model in models:\n",
    "        y_train_hat = np.where(model.predict(X_train)>0.5, 1, 0)\n",
    "        y_val_hat = np.where(model.predict(X_val)>0.5, 1, 0)\n",
    "        y_train = y_train.astype('int')\n",
    "        y_val = y_val.astype('int')\n",
    "        training_auc, training_pre, val_auc, val_pre = evaluation(y_train, y_val, y_train_hat, y_val_hat)\n",
    "        sum_training_auc += training_auc\n",
    "        sum_training_pre += training_pre\n",
    "        sum_val_auc +=  val_auc\n",
    "        sum_val_pre +=  val_pre\n",
    "    print(\"training auc: {:.3f} pre: {:.3f}, validation auc: {:.3f} pre: {:.3f}\".format(sum_training_auc/n, sum_training_pre/n, sum_val_auc/n, sum_val_pre/n))\n",
    "\n",
    "\n",
    "print(\"Dataset1: \")\n",
    "rf_models1, configs, model_paths, sweep_name = parse_wandb_models(path=[\"baron/Link_Prediction@MLG/u13o8xd1\"], model_name=\"rf_model\", numbers_models=5, metric=\"Validation PRE\")\n",
    "MeanAccuracy(dataset1, rf_models1)\n",
    "print(\"Dataset2: \")\n",
    "rf_models2, configs, model_paths, sweep_name = parse_wandb_models(path=[\"baron/Link_Prediction@MLG/hjl5err9\"], model_name=\"rf_model\", numbers_models=5, metric=\"Validation PRE\")\n",
    "MeanAccuracy(dataset2, rf_models2)\n",
    "print(\"Dataset3: \")\n",
    "rf_models3, configs, model_paths, sweep_name = parse_wandb_models(path=[\"baron/Link_Prediction@MLG/1srz43lz\"], model_name=\"rf_model\", numbers_models=5, metric=\"Validation PRE\")\n",
    "MeanAccuracy(dataset3, rf_models3)"
   ]
  },
  {
   "cell_type": "markdown",
   "id": "18f601ab-3a93-4099-bb91-52725643fb00",
   "metadata": {},
   "source": [
    "## 3. Randomwalk with restart"
   ]
  },
  {
   "cell_type": "code",
   "execution_count": 2,
   "id": "53fb613f-f2bd-43b9-87f4-c1a59d0e67c7",
   "metadata": {},
   "outputs": [
    {
     "name": "stdout",
     "output_type": "stream",
     "text": [
      "/home/baron/HW/link_prediction\n"
     ]
    }
   ],
   "source": [
    "! pwd"
   ]
  },
  {
   "cell_type": "code",
   "execution_count": 11,
   "id": "eba17e5a-e5ae-4349-bd8a-6e60e1b6c1dc",
   "metadata": {},
   "outputs": [
    {
     "name": "stdout",
     "output_type": "stream",
     "text": [
      "['/home/baron/HW/link_prediction', '/usr/lib/python38.zip', '/usr/lib/python3.8', '/usr/lib/python3.8/lib-dynload', '', '/home/baron/.local/lib/python3.8/site-packages', '/usr/local/lib/python3.8/dist-packages', '/usr/lib/python3/dist-packages', '/home/baron/HW/link_prediction/pyrwr', '/home/baron/HW/link_prediction/pyrwr']\n"
     ]
    },
    {
     "ename": "ModuleNotFoundError",
     "evalue": "No module named 'pyrwr.rwr'",
     "output_type": "error",
     "traceback": [
      "\u001b[0;31m---------------------------------------------------------------------------\u001b[0m",
      "\u001b[0;31mModuleNotFoundError\u001b[0m                       Traceback (most recent call last)",
      "Input \u001b[0;32mIn [11]\u001b[0m, in \u001b[0;36m<cell line: 5>\u001b[0;34m()\u001b[0m\n\u001b[1;32m      3\u001b[0m sys\u001b[38;5;241m.\u001b[39mpath\u001b[38;5;241m.\u001b[39mappend(os\u001b[38;5;241m.\u001b[39mpath\u001b[38;5;241m.\u001b[39mabspath(\u001b[38;5;124m\"\u001b[39m\u001b[38;5;124m./pyrwr\u001b[39m\u001b[38;5;124m\"\u001b[39m))\n\u001b[1;32m      4\u001b[0m \u001b[38;5;28mprint\u001b[39m(sys\u001b[38;5;241m.\u001b[39mpath)\n\u001b[0;32m----> 5\u001b[0m \u001b[38;5;28;01mfrom\u001b[39;00m \u001b[38;5;21;01mpyrwr\u001b[39;00m\u001b[38;5;21;01m.\u001b[39;00m\u001b[38;5;21;01mrwr\u001b[39;00m \u001b[38;5;28;01mimport\u001b[39;00m RWR\n",
      "\u001b[0;31mModuleNotFoundError\u001b[0m: No module named 'pyrwr.rwr'"
     ]
    }
   ],
   "source": [
    "import os\n",
    "import sys\n",
    "sys.path.append(os.path.abspath(\"./pyrwr\"))\n",
    "print(sys.path)\n",
    "from pyrwr.rwr import RWR"
   ]
  },
  {
   "cell_type": "markdown",
   "id": "23b452f7-dea5-455a-bff0-c3baab60fb35",
   "metadata": {},
   "source": [
    "## Evaluation"
   ]
  },
  {
   "cell_type": "code",
   "execution_count": 98,
   "id": "ffe3de69-ac28-478e-bfe7-826159787015",
   "metadata": {},
   "outputs": [],
   "source": [
    "from sklearn.metrics import roc_auc_score, average_precision_score"
   ]
  },
  {
   "cell_type": "code",
   "execution_count": 131,
   "id": "6f394998-1227-4f2a-84e3-a230fc380b9f",
   "metadata": {},
   "outputs": [],
   "source": [
    "def evaluation(y_train, y_val, y_train_hat, y_val_hat):\n",
    "    training_auc, val_auc = roc_auc_score(y_train, y_train_hat), roc_auc_score(y_val, y_val_hat)\n",
    "    training_pre, val_pre = average_precision_score(y_train, y_train_hat), average_precision_score(y_val, y_val_hat)\n",
    "    \n",
    "    return training_auc, training_pre, val_auc, val_pre"
   ]
  },
  {
   "cell_type": "markdown",
   "id": "f8904e08-48c7-427f-bbc2-dee03cc7d7a6",
   "metadata": {},
   "source": [
    "## Output"
   ]
  },
  {
   "cell_type": "markdown",
   "id": "0f214d85-2dbd-46b7-b043-77e07e82a3b7",
   "metadata": {},
   "source": [
    "### Simple NN"
   ]
  },
  {
   "cell_type": "code",
   "execution_count": 324,
   "id": "02dd9ae3-bf99-4c69-acdf-784b17965f6d",
   "metadata": {},
   "outputs": [
    {
     "name": "stdout",
     "output_type": "stream",
     "text": [
      "dataset1:\n",
      "       id      prob\n",
      "0  E10559  0.365705\n",
      "1   E4849  0.250038\n",
      "2   E3964  0.250038\n",
      "3    E542  0.571623\n",
      "4    E331  0.885949\n",
      "\n",
      "dataset2:\n",
      "      id      prob\n",
      "0  E3064  0.599758\n",
      "1   E298  0.575320\n",
      "2  E3512  1.000000\n",
      "3  E5670  1.000000\n",
      "4  E5005  0.599758\n",
      "\n",
      "dataset3:\n",
      "      id      prob\n",
      "0   E370  0.465278\n",
      "1   E667  0.570752\n",
      "2  E3190  0.515711\n",
      "3   E848  0.382854\n",
      "4  E2161  0.331145\n"
     ]
    },
    {
     "name": "stderr",
     "output_type": "stream",
     "text": [
      "/home/baron/.local/lib/python3.8/site-packages/torch/nn/functional.py:1806: UserWarning: nn.functional.sigmoid is deprecated. Use torch.sigmoid instead.\n",
      "  warnings.warn(\"nn.functional.sigmoid is deprecated. Use torch.sigmoid instead.\")\n",
      "/home/baron/.local/lib/python3.8/site-packages/torch/nn/functional.py:1806: UserWarning: nn.functional.sigmoid is deprecated. Use torch.sigmoid instead.\n",
      "  warnings.warn(\"nn.functional.sigmoid is deprecated. Use torch.sigmoid instead.\")\n",
      "/home/baron/.local/lib/python3.8/site-packages/torch/nn/functional.py:1806: UserWarning: nn.functional.sigmoid is deprecated. Use torch.sigmoid instead.\n",
      "  warnings.warn(\"nn.functional.sigmoid is deprecated. Use torch.sigmoid instead.\")\n"
     ]
    }
   ],
   "source": [
    "upload_csv = pd.read_csv(\"../../data/SocialNetowrk/hw2_data/dataset1/upload.csv\")\n",
    "X_testing = dataset1.get_testing_data()\n",
    "X_testing = torch.tensor(X_testing).float()\n",
    "upload_csv[\"prob\"] = F.sigmoid(nn_model1(X_testing)).detach().numpy()\n",
    "print(\"dataset1:\")\n",
    "print(upload_csv.head())\n",
    "upload_csv.to_csv('upload/upload_nn1_moref.csv')\n",
    "\n",
    "upload_csv = pd.read_csv(\"../../data/SocialNetowrk/hw2_data/dataset2/upload.csv\")\n",
    "X_testing = dataset2.get_testing_data()\n",
    "X_testing = torch.tensor(X_testing).float()\n",
    "upload_csv[\"prob\"] = F.sigmoid(nn_model2(X_testing)).detach().numpy()\n",
    "print(\"\\ndataset2:\")\n",
    "print(upload_csv.head())\n",
    "upload_csv.to_csv('upload/upload_nn2_moref.csv')\n",
    "\n",
    "upload_csv = pd.read_csv(\"../../data/SocialNetowrk/hw2_data/dataset3/upload.csv\")\n",
    "X_testing = dataset3.get_testing_data()\n",
    "X_testing = torch.tensor(X_testing).float()\n",
    "upload_csv[\"prob\"] = F.sigmoid(nn_model3(X_testing)).detach().numpy()\n",
    "print(\"\\ndataset3:\")\n",
    "print(upload_csv.head())\n",
    "upload_csv.to_csv('upload/upload_nn3_moref.csv')"
   ]
  },
  {
   "cell_type": "markdown",
   "id": "4eb9dc38-0e7a-4f3b-909e-640830711c0d",
   "metadata": {},
   "source": [
    "### Random forest"
   ]
  },
  {
   "cell_type": "code",
   "execution_count": 315,
   "id": "7bbbaffc-0f81-46cc-916d-fe58443304f7",
   "metadata": {},
   "outputs": [
    {
     "name": "stdout",
     "output_type": "stream",
     "text": [
      "dataset1:\n",
      "       id      prob\n",
      "0  E10559  0.489356\n",
      "1   E4849  0.332700\n",
      "2   E3964  0.332700\n",
      "3    E542  0.555823\n",
      "4    E331  0.890325\n",
      "\n",
      "dataset2:\n",
      "      id      prob\n",
      "0  E3064  0.604605\n",
      "1   E298  0.607758\n",
      "2  E3512  0.999690\n",
      "3  E5670  0.999310\n",
      "4  E5005  0.604605\n",
      "\n",
      "dataset3:\n",
      "      id      prob\n",
      "0   E370  0.478342\n",
      "1   E667  0.463736\n",
      "2  E3190  0.489414\n",
      "3   E848  0.518443\n",
      "4  E2161  0.401615\n"
     ]
    }
   ],
   "source": [
    "upload_csv = pd.read_csv(\"../../data/SocialNetowrk/hw2_data/dataset1/upload.csv\")\n",
    "X_testing = dataset1.get_testing_data()\n",
    "sum_value = 0\n",
    "for model in rf_models1:\n",
    "    predict_value = model.predict(X_testing)\n",
    "    sum_value += predict_value\n",
    "upload_csv[\"prob\"] = sum_value/len(rf_models1)\n",
    "print(\"dataset1:\")\n",
    "print(upload_csv.head())\n",
    "upload_csv.to_csv('upload/upload_rf1_moref.csv')\n",
    "\n",
    "upload_csv = pd.read_csv(\"../../data/SocialNetowrk/hw2_data/dataset2/upload.csv\")\n",
    "X_testing = dataset2.get_testing_data()\n",
    "sum_value = 0\n",
    "for model in rf_models2:\n",
    "    predict_value = model.predict(X_testing)\n",
    "    sum_value += predict_value\n",
    "upload_csv[\"prob\"] = sum_value/len(rf_models2)\n",
    "print(\"\\ndataset2:\")\n",
    "print(upload_csv.head())\n",
    "upload_csv.to_csv('upload/upload_rf2_moref.csv')\n",
    "\n",
    "upload_csv = pd.read_csv(\"../../data/SocialNetowrk/hw2_data/dataset3/upload.csv\")\n",
    "X_testing = dataset3.get_testing_data()\n",
    "sum_value = 0\n",
    "for model in rf_models3:\n",
    "    predict_value = model.predict(X_testing)\n",
    "    sum_value += predict_value\n",
    "upload_csv[\"prob\"] = sum_value/len(rf_models3)\n",
    "print(\"\\ndataset3:\")\n",
    "print(upload_csv.head())\n",
    "upload_csv.to_csv('upload/upload_rf3_moref.csv')"
   ]
  },
  {
   "cell_type": "code",
   "execution_count": null,
   "id": "a1f33085-454f-4300-9024-ba93b2d848ee",
   "metadata": {},
   "outputs": [],
   "source": []
  }
 ],
 "metadata": {
  "kernelspec": {
   "display_name": "Python 3 (ipykernel)",
   "language": "python",
   "name": "python3"
  },
  "language_info": {
   "codemirror_mode": {
    "name": "ipython",
    "version": 3
   },
   "file_extension": ".py",
   "mimetype": "text/x-python",
   "name": "python",
   "nbconvert_exporter": "python",
   "pygments_lexer": "ipython3",
   "version": "3.8.10"
  }
 },
 "nbformat": 4,
 "nbformat_minor": 5
}
